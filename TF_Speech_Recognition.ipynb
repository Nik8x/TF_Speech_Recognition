{
  "nbformat": 4,
  "nbformat_minor": 0,
  "metadata": {
    "colab": {
      "name": "kernel.ipynb",
      "version": "0.3.2",
      "provenance": [],
      "include_colab_link": true
    },
    "kernelspec": {
      "display_name": "Python 3",
      "language": "python",
      "name": "python3"
    }
  },
  "cells": [
    {
      "cell_type": "markdown",
      "metadata": {
        "id": "view-in-github",
        "colab_type": "text"
      },
      "source": [
        "<a href=\"https://colab.research.google.com/github/Nik8x/TF_Speech_Recognition/blob/master/TF_Speech_Recognition.ipynb\" target=\"_parent\"><img src=\"https://colab.research.google.com/assets/colab-badge.svg\" alt=\"Open In Colab\"/></a>"
      ]
    },
    {
      "metadata": {
        "_uuid": "380c22d03aa32cb02563babaf256ee0468de8476",
        "trusted": true,
        "id": "ItYyqbnUwNKV",
        "colab_type": "code",
        "colab": {}
      },
      "cell_type": "code",
      "source": [
        "import glob\n",
        "import os\n",
        "import pandas as pd\n",
        "import numpy as np\n",
        "import librosa\n",
        "import librosa.display\n",
        "import matplotlib.pyplot as plt\n",
        "%matplotlib inline\n",
        "import IPython\n",
        "\n",
        "from keras.models import Sequential\n",
        "from keras.layers import Dense, Dropout, Activation, Flatten, Convolution2D, MaxPooling2D, Conv2D\n",
        "from keras.optimizers import Adam\n",
        "from keras.utils import np_utils\n",
        "from sklearn import metrics\n",
        "from sklearn.preprocessing import LabelEncoder"
      ],
      "execution_count": 0,
      "outputs": []
    },
    {
      "metadata": {
        "_uuid": "e645022200c4b813a18bc272552b8507e28dea95",
        "trusted": true,
        "id": "66tIp6HIwNKc",
        "colab_type": "code",
        "colab": {},
        "outputId": "d905178b-1171-42b3-e528-52528a67c8a6"
      },
      "cell_type": "code",
      "source": [
        "# let's see total audio files for each label\n",
        "label = []\n",
        "counts = []\n",
        "for i in os.listdir('../input/tensorflow-speech-recognition-challenge/train/audio/'):\n",
        "    label.append(i)\n",
        "    counts.append(len(os.listdir('../input/tensorflow-speech-recognition-challenge/train/audio/' + i)))\n",
        "    \n",
        "df = pd.DataFrame([label, counts]).T.set_index([0])\n",
        "df"
      ],
      "execution_count": 0,
      "outputs": [
        {
          "output_type": "execute_result",
          "data": {
            "text/plain": [
              "                       1\n",
              "0                       \n",
              "right               2367\n",
              "tree                1733\n",
              "down                2359\n",
              "go                  2372\n",
              "wow                 1745\n",
              "bed                 1713\n",
              "zero                2376\n",
              "stop                2380\n",
              "off                 2357\n",
              "nine                2364\n",
              "cat                 1733\n",
              "marvin              1746\n",
              "yes                 2377\n",
              "bird                1731\n",
              "eight               2352\n",
              "_background_noise_     7\n",
              "no                  2375\n",
              "seven               2377\n",
              "four                2372\n",
              "dog                 1746\n",
              "up                  2375\n",
              "five                2357\n",
              "house               1750\n",
              "three               2356\n",
              "on                  2367\n",
              "left                2353\n",
              "six                 2369\n",
              "happy               1742\n",
              "sheila              1734\n",
              "two                 2373\n",
              "one                 2370"
            ],
            "text/html": [
              "<div>\n",
              "<style scoped>\n",
              "    .dataframe tbody tr th:only-of-type {\n",
              "        vertical-align: middle;\n",
              "    }\n",
              "\n",
              "    .dataframe tbody tr th {\n",
              "        vertical-align: top;\n",
              "    }\n",
              "\n",
              "    .dataframe thead th {\n",
              "        text-align: right;\n",
              "    }\n",
              "</style>\n",
              "<table border=\"1\" class=\"dataframe\">\n",
              "  <thead>\n",
              "    <tr style=\"text-align: right;\">\n",
              "      <th></th>\n",
              "      <th>1</th>\n",
              "    </tr>\n",
              "    <tr>\n",
              "      <th>0</th>\n",
              "      <th></th>\n",
              "    </tr>\n",
              "  </thead>\n",
              "  <tbody>\n",
              "    <tr>\n",
              "      <th>right</th>\n",
              "      <td>2367</td>\n",
              "    </tr>\n",
              "    <tr>\n",
              "      <th>tree</th>\n",
              "      <td>1733</td>\n",
              "    </tr>\n",
              "    <tr>\n",
              "      <th>down</th>\n",
              "      <td>2359</td>\n",
              "    </tr>\n",
              "    <tr>\n",
              "      <th>go</th>\n",
              "      <td>2372</td>\n",
              "    </tr>\n",
              "    <tr>\n",
              "      <th>wow</th>\n",
              "      <td>1745</td>\n",
              "    </tr>\n",
              "    <tr>\n",
              "      <th>bed</th>\n",
              "      <td>1713</td>\n",
              "    </tr>\n",
              "    <tr>\n",
              "      <th>zero</th>\n",
              "      <td>2376</td>\n",
              "    </tr>\n",
              "    <tr>\n",
              "      <th>stop</th>\n",
              "      <td>2380</td>\n",
              "    </tr>\n",
              "    <tr>\n",
              "      <th>off</th>\n",
              "      <td>2357</td>\n",
              "    </tr>\n",
              "    <tr>\n",
              "      <th>nine</th>\n",
              "      <td>2364</td>\n",
              "    </tr>\n",
              "    <tr>\n",
              "      <th>cat</th>\n",
              "      <td>1733</td>\n",
              "    </tr>\n",
              "    <tr>\n",
              "      <th>marvin</th>\n",
              "      <td>1746</td>\n",
              "    </tr>\n",
              "    <tr>\n",
              "      <th>yes</th>\n",
              "      <td>2377</td>\n",
              "    </tr>\n",
              "    <tr>\n",
              "      <th>bird</th>\n",
              "      <td>1731</td>\n",
              "    </tr>\n",
              "    <tr>\n",
              "      <th>eight</th>\n",
              "      <td>2352</td>\n",
              "    </tr>\n",
              "    <tr>\n",
              "      <th>_background_noise_</th>\n",
              "      <td>7</td>\n",
              "    </tr>\n",
              "    <tr>\n",
              "      <th>no</th>\n",
              "      <td>2375</td>\n",
              "    </tr>\n",
              "    <tr>\n",
              "      <th>seven</th>\n",
              "      <td>2377</td>\n",
              "    </tr>\n",
              "    <tr>\n",
              "      <th>four</th>\n",
              "      <td>2372</td>\n",
              "    </tr>\n",
              "    <tr>\n",
              "      <th>dog</th>\n",
              "      <td>1746</td>\n",
              "    </tr>\n",
              "    <tr>\n",
              "      <th>up</th>\n",
              "      <td>2375</td>\n",
              "    </tr>\n",
              "    <tr>\n",
              "      <th>five</th>\n",
              "      <td>2357</td>\n",
              "    </tr>\n",
              "    <tr>\n",
              "      <th>house</th>\n",
              "      <td>1750</td>\n",
              "    </tr>\n",
              "    <tr>\n",
              "      <th>three</th>\n",
              "      <td>2356</td>\n",
              "    </tr>\n",
              "    <tr>\n",
              "      <th>on</th>\n",
              "      <td>2367</td>\n",
              "    </tr>\n",
              "    <tr>\n",
              "      <th>left</th>\n",
              "      <td>2353</td>\n",
              "    </tr>\n",
              "    <tr>\n",
              "      <th>six</th>\n",
              "      <td>2369</td>\n",
              "    </tr>\n",
              "    <tr>\n",
              "      <th>happy</th>\n",
              "      <td>1742</td>\n",
              "    </tr>\n",
              "    <tr>\n",
              "      <th>sheila</th>\n",
              "      <td>1734</td>\n",
              "    </tr>\n",
              "    <tr>\n",
              "      <th>two</th>\n",
              "      <td>2373</td>\n",
              "    </tr>\n",
              "    <tr>\n",
              "      <th>one</th>\n",
              "      <td>2370</td>\n",
              "    </tr>\n",
              "  </tbody>\n",
              "</table>\n",
              "</div>"
            ]
          },
          "metadata": {
            "tags": []
          },
          "execution_count": 58
        }
      ]
    },
    {
      "metadata": {
        "_uuid": "bf807e977b790d3a633bef1762504ea82235fce0",
        "trusted": true,
        "id": "vsd3Y3MawNKh",
        "colab_type": "code",
        "colab": {},
        "outputId": "41df62e5-3190-4aa2-d92f-709f6bb9be0e"
      },
      "cell_type": "code",
      "source": [
        "# Total number of audio files\n",
        "np.sum(df[1])"
      ],
      "execution_count": 0,
      "outputs": [
        {
          "output_type": "execute_result",
          "data": {
            "text/plain": [
              "64728"
            ]
          },
          "metadata": {
            "tags": []
          },
          "execution_count": 4
        }
      ]
    },
    {
      "metadata": {
        "_uuid": "c6b44e4bbe45145797a05c2416cdce1416edd4ef",
        "trusted": true,
        "id": "LWWJa-FnwNKk",
        "colab_type": "code",
        "colab": {},
        "outputId": "ff524ff4-11e1-42cd-dd83-4987d3f59de6"
      },
      "cell_type": "code",
      "source": [
        "os.listdir('../input/tensorflow-speech-recognition-challenge/')"
      ],
      "execution_count": 0,
      "outputs": [
        {
          "output_type": "execute_result",
          "data": {
            "text/plain": [
              "['train', 'sample_submission.csv']"
            ]
          },
          "metadata": {
            "tags": []
          },
          "execution_count": 5
        }
      ]
    },
    {
      "metadata": {
        "_uuid": "17f6e6f0a4bbda1960325d3720e433dcb28a4a40",
        "trusted": true,
        "id": "KCLweM-ewNKn",
        "colab_type": "code",
        "colab": {}
      },
      "cell_type": "code",
      "source": [
        "test_list = open('../input/tensorflow-speech-recognition-challenge/train/testing_list.txt').read().split('\\n')\n",
        "val_list = open('../input/tensorflow-speech-recognition-challenge/train/validation_list.txt').read().split('\\n')"
      ],
      "execution_count": 0,
      "outputs": []
    },
    {
      "metadata": {
        "_uuid": "649c8f92bae04eb7cf9a855233719be2c896fbea",
        "trusted": true,
        "id": "y7bi9vLnwNKp",
        "colab_type": "code",
        "colab": {},
        "outputId": "b1b4f14f-d698-4fda-f8b7-9a16f4d949ca"
      },
      "cell_type": "code",
      "source": [
        "len(test_list), len(val_list)"
      ],
      "execution_count": 0,
      "outputs": [
        {
          "output_type": "execute_result",
          "data": {
            "text/plain": [
              "(6836, 6799)"
            ]
          },
          "metadata": {
            "tags": []
          },
          "execution_count": 7
        }
      ]
    },
    {
      "metadata": {
        "_uuid": "ddd8acc2801732d222b9d126f31f076c199c018a",
        "trusted": true,
        "id": "z3aU5idhwNKs",
        "colab_type": "code",
        "colab": {},
        "outputId": "e63573ed-2a44-42ec-93c1-2cb747564a9d"
      },
      "cell_type": "code",
      "source": [
        "IPython.display.Audio('../input/tensorflow-speech-recognition-challenge/train/audio/right/bf8d5617_nohash_0.wav')"
      ],
      "execution_count": 0,
      "outputs": [
        {
          "output_type": "execute_result",
          "data": {
            "text/plain": [
              "<IPython.lib.display.Audio object>"
            ],
            "text/html": [
              "\n",
              "                <audio controls=\"controls\" >\n",
              "                    <source src=\"data:audio/x-wav;base64,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\" type=\"audio/x-wav\" />\n",
              "                    Your browser does not support the audio element.\n",
              "                </audio>\n",
              "              "
            ]
          },
          "metadata": {
            "tags": []
          },
          "execution_count": 8
        }
      ]
    },
    {
      "metadata": {
        "_uuid": "9742e2eb4208cde9680b3b7d43a4c82769f07b07",
        "trusted": true,
        "id": "ggoxqDwvwNKu",
        "colab_type": "code",
        "colab": {}
      },
      "cell_type": "code",
      "source": [
        "labels_in_test = ['yes', 'no', 'up', 'down', 'left', 'right', 'on', 'off', 'stop', 'go']\n",
        "df = df.loc[labels_in_test]\n",
        "df"
      ],
      "execution_count": 0,
      "outputs": []
    },
    {
      "metadata": {
        "trusted": true,
        "_uuid": "307dee6686a168af690c3f6bb8bbe92be0ef0567",
        "id": "nToynC9-wNKx",
        "colab_type": "code",
        "colab": {},
        "outputId": "37880aeb-4d10-49c6-a045-988094290eaa"
      },
      "cell_type": "code",
      "source": [
        "np.sum(df[1])"
      ],
      "execution_count": 0,
      "outputs": [
        {
          "output_type": "execute_result",
          "data": {
            "text/plain": [
              "23682"
            ]
          },
          "metadata": {
            "tags": []
          },
          "execution_count": 123
        }
      ]
    },
    {
      "metadata": {
        "_uuid": "d019ef32660db13b6c5e1e09926aae5f801b8cd0",
        "trusted": true,
        "id": "8J9Ooc3ewNKz",
        "colab_type": "code",
        "colab": {},
        "outputId": "039e2ddc-27cd-4598-99da-01546a749c52"
      },
      "cell_type": "code",
      "source": [
        "%%time\n",
        "def namestr(obj, namespace):\n",
        "    return [name for name in namespace if namespace[name] is obj]\n",
        "\n",
        "def extract_data(folder):\n",
        "    dff = pd.DataFrame()\n",
        "    names = []\n",
        "    features = []\n",
        "    \n",
        "    for name in os.listdir('../input/tensorflow-speech-recognition-challenge/train/audio/' + folder):\n",
        "        data, sampling_rate = librosa.load('../input/tensorflow-speech-recognition-challenge/train/audio/' + folder + '/' + name, res_type = 'kaiser_fast')\n",
        "        mfccs = np.mean(librosa.feature.mfcc(y = data, sr = sampling_rate, n_mfcc = 40).T, axis = 0)\n",
        "        \n",
        "        features.append(mfccs)\n",
        "        names.append(name)\n",
        "        \n",
        "    return [names, features]\n",
        "\n",
        "train_new = pd.Series(labels_in_test).apply(extract_data)\n",
        "train_new.columns = ['names', 'features']"
      ],
      "execution_count": 0,
      "outputs": [
        {
          "output_type": "stream",
          "text": [
            "CPU times: user 12min 57s, sys: 16min 4s, total: 29min 2s\n",
            "Wall time: 7min 22s\n"
          ],
          "name": "stdout"
        }
      ]
    },
    {
      "metadata": {
        "trusted": true,
        "_uuid": "387ec7045f65dc29ef4cb9ee67a12c63bdfb7b0c",
        "id": "_1hIhtmvwNK2",
        "colab_type": "code",
        "colab": {}
      },
      "cell_type": "code",
      "source": [
        "dfff = pd.DataFrame()\n",
        "dfff['names'] = train_new[0][0] + train_new[1][0] + train_new[2][0] + train_new[3][0] + train_new[4][0] + train_new[5][0] + train_new[6][0] + train_new[7][0] + train_new[8][0] + train_new[9][0]\n",
        "dfff['feature'] = train_new[0][1] + train_new[1][1] + train_new[2][1] + train_new[3][1] + train_new[4][1] + train_new[5][1] + train_new[6][1] + train_new[7][1] + train_new[8][1] + train_new[9][1]"
      ],
      "execution_count": 0,
      "outputs": []
    },
    {
      "metadata": {
        "trusted": true,
        "_uuid": "59a2f4231452bb373dc33029d66beda694cd014b",
        "id": "BaQtZXdVwNK4",
        "colab_type": "code",
        "colab": {}
      },
      "cell_type": "code",
      "source": [
        "label_all = []\n",
        "for index in labels_in_test:\n",
        "    label_all.append([index] * df.loc[index][1])"
      ],
      "execution_count": 0,
      "outputs": []
    },
    {
      "metadata": {
        "trusted": true,
        "_uuid": "2c515370b9da35260181a843e2398909bedcf1cf",
        "id": "woJ2IcbawNK7",
        "colab_type": "code",
        "colab": {}
      },
      "cell_type": "code",
      "source": [
        "dfff['label'] = [item for sublist in label_all for item in sublist]"
      ],
      "execution_count": 0,
      "outputs": []
    },
    {
      "metadata": {
        "trusted": true,
        "_uuid": "39d44d1bbc11161032f2a7eae78207fade740f97",
        "id": "h4s72Jq-wNK9",
        "colab_type": "code",
        "colab": {},
        "outputId": "364252c1-c2ba-45ad-8cda-41c75fcffc1b"
      },
      "cell_type": "code",
      "source": [
        "print(dfff.shape)\n",
        "dfff.head()"
      ],
      "execution_count": 0,
      "outputs": [
        {
          "output_type": "stream",
          "text": [
            "(23682, 3)\n"
          ],
          "name": "stdout"
        },
        {
          "output_type": "execute_result",
          "data": {
            "text/plain": [
              "                   names  ...  label\n",
              "0  5fe4a278_nohash_1.wav  ...    yes\n",
              "1  4def68db_nohash_1.wav  ...    yes\n",
              "2  3d53244b_nohash_3.wav  ...    yes\n",
              "3  62ef962d_nohash_1.wav  ...    yes\n",
              "4  264f471d_nohash_3.wav  ...    yes\n",
              "\n",
              "[5 rows x 3 columns]"
            ],
            "text/html": [
              "<div>\n",
              "<style scoped>\n",
              "    .dataframe tbody tr th:only-of-type {\n",
              "        vertical-align: middle;\n",
              "    }\n",
              "\n",
              "    .dataframe tbody tr th {\n",
              "        vertical-align: top;\n",
              "    }\n",
              "\n",
              "    .dataframe thead th {\n",
              "        text-align: right;\n",
              "    }\n",
              "</style>\n",
              "<table border=\"1\" class=\"dataframe\">\n",
              "  <thead>\n",
              "    <tr style=\"text-align: right;\">\n",
              "      <th></th>\n",
              "      <th>names</th>\n",
              "      <th>feature</th>\n",
              "      <th>label</th>\n",
              "    </tr>\n",
              "  </thead>\n",
              "  <tbody>\n",
              "    <tr>\n",
              "      <th>0</th>\n",
              "      <td>5fe4a278_nohash_1.wav</td>\n",
              "      <td>[-360.960391618762, 95.24125277596205, -45.965...</td>\n",
              "      <td>yes</td>\n",
              "    </tr>\n",
              "    <tr>\n",
              "      <th>1</th>\n",
              "      <td>4def68db_nohash_1.wav</td>\n",
              "      <td>[-350.56030750703735, 95.85476962473145, -18.2...</td>\n",
              "      <td>yes</td>\n",
              "    </tr>\n",
              "    <tr>\n",
              "      <th>2</th>\n",
              "      <td>3d53244b_nohash_3.wav</td>\n",
              "      <td>[-452.9357667760163, 48.59143620106703, -8.356...</td>\n",
              "      <td>yes</td>\n",
              "    </tr>\n",
              "    <tr>\n",
              "      <th>3</th>\n",
              "      <td>62ef962d_nohash_1.wav</td>\n",
              "      <td>[-304.8770846153024, 60.81771523850327, -32.59...</td>\n",
              "      <td>yes</td>\n",
              "    </tr>\n",
              "    <tr>\n",
              "      <th>4</th>\n",
              "      <td>264f471d_nohash_3.wav</td>\n",
              "      <td>[-305.4094163819084, 100.41015855982204, -2.31...</td>\n",
              "      <td>yes</td>\n",
              "    </tr>\n",
              "  </tbody>\n",
              "</table>\n",
              "</div>"
            ]
          },
          "metadata": {
            "tags": []
          },
          "execution_count": 129
        }
      ]
    },
    {
      "metadata": {
        "trusted": true,
        "_uuid": "e5f1a120fd6486e3b7b55101b25f506127d34176",
        "id": "7B_XZus9wNLB",
        "colab_type": "code",
        "colab": {}
      },
      "cell_type": "code",
      "source": [
        "dfff.to_csv(\"dfff.csv\", index = False, sep = ',')"
      ],
      "execution_count": 0,
      "outputs": []
    },
    {
      "metadata": {
        "trusted": true,
        "_uuid": "ab2d5154f3f90b0e9a47c438e23901a49656441d",
        "id": "BbmWaODfwNLE",
        "colab_type": "code",
        "colab": {},
        "outputId": "621bcd7e-c74f-46ea-b1d0-0299a0949c0b"
      },
      "cell_type": "code",
      "source": [
        "val_list_all = pd.Series(val_list[:-1]).apply(lambda x: x.split('/')[1])\n",
        "test_list_all = pd.Series(test_list[:-1]).apply(lambda x: x.split('/')[1])\n",
        "len(val_list_all), len(test_list_all)"
      ],
      "execution_count": 0,
      "outputs": [
        {
          "output_type": "execute_result",
          "data": {
            "text/plain": [
              "(6798, 6835)"
            ]
          },
          "metadata": {
            "tags": []
          },
          "execution_count": 130
        }
      ]
    },
    {
      "metadata": {
        "trusted": true,
        "_uuid": "c0c76abe591a71499c273d280f30357fde22935a",
        "id": "SEWZsETVwNLI",
        "colab_type": "code",
        "colab": {},
        "outputId": "823e0c17-6e20-4992-aa2b-e9fd314d7aa6"
      },
      "cell_type": "code",
      "source": [
        "val = dfff[dfff.names.isin(val_list_all)]\n",
        "val = val.iloc[np.random.permutation(len(val))]  # Shuffle DataFrame rows\n",
        "print(val.shape)\n",
        "\n",
        "train = dfff[~dfff.names.isin(val_list_all)]\n",
        "train = train.iloc[np.random.permutation(len(train))] # Shuffle DataFrame rows\n",
        "print(train.shape)"
      ],
      "execution_count": 0,
      "outputs": [
        {
          "output_type": "stream",
          "text": [
            "(2577, 3)\n",
            "(21105, 3)\n"
          ],
          "name": "stdout"
        }
      ]
    },
    {
      "metadata": {
        "trusted": true,
        "_uuid": "58f1b9715d6b0a36675a773b02f676c610b2e70b",
        "id": "r5j82kLqwNLN",
        "colab_type": "code",
        "colab": {},
        "outputId": "9ff06d5d-c925-4faa-ea6a-f36c3f8f7e52"
      },
      "cell_type": "code",
      "source": [
        "train.head()"
      ],
      "execution_count": 0,
      "outputs": [
        {
          "output_type": "execute_result",
          "data": {
            "text/plain": [
              "                       names  ...    label\n",
              "4466   33f60c62_nohash_0.wav  ...       no\n",
              "14015  8e05039f_nohash_0.wav  ...    right\n",
              "23485  f875f965_nohash_0.wav  ...       go\n",
              "8363   3e31dffe_nohash_3.wav  ...     down\n",
              "19479  8134f43f_nohash_2.wav  ...     stop\n",
              "\n",
              "[5 rows x 3 columns]"
            ],
            "text/html": [
              "<div>\n",
              "<style scoped>\n",
              "    .dataframe tbody tr th:only-of-type {\n",
              "        vertical-align: middle;\n",
              "    }\n",
              "\n",
              "    .dataframe tbody tr th {\n",
              "        vertical-align: top;\n",
              "    }\n",
              "\n",
              "    .dataframe thead th {\n",
              "        text-align: right;\n",
              "    }\n",
              "</style>\n",
              "<table border=\"1\" class=\"dataframe\">\n",
              "  <thead>\n",
              "    <tr style=\"text-align: right;\">\n",
              "      <th></th>\n",
              "      <th>names</th>\n",
              "      <th>feature</th>\n",
              "      <th>label</th>\n",
              "    </tr>\n",
              "  </thead>\n",
              "  <tbody>\n",
              "    <tr>\n",
              "      <th>4466</th>\n",
              "      <td>33f60c62_nohash_0.wav</td>\n",
              "      <td>[-666.1384645460589, 105.0935253333153, -36.90...</td>\n",
              "      <td>no</td>\n",
              "    </tr>\n",
              "    <tr>\n",
              "      <th>14015</th>\n",
              "      <td>8e05039f_nohash_0.wav</td>\n",
              "      <td>[-408.13521014083494, 112.73906017658597, 0.49...</td>\n",
              "      <td>right</td>\n",
              "    </tr>\n",
              "    <tr>\n",
              "      <th>23485</th>\n",
              "      <td>f875f965_nohash_0.wav</td>\n",
              "      <td>[-470.8189676086632, 143.73396008009183, -24.7...</td>\n",
              "      <td>go</td>\n",
              "    </tr>\n",
              "    <tr>\n",
              "      <th>8363</th>\n",
              "      <td>3e31dffe_nohash_3.wav</td>\n",
              "      <td>[-454.153372075609, 162.1608907677855, -12.808...</td>\n",
              "      <td>down</td>\n",
              "    </tr>\n",
              "    <tr>\n",
              "      <th>19479</th>\n",
              "      <td>8134f43f_nohash_2.wav</td>\n",
              "      <td>[-416.61373092197425, 147.70438559348352, 28.4...</td>\n",
              "      <td>stop</td>\n",
              "    </tr>\n",
              "  </tbody>\n",
              "</table>\n",
              "</div>"
            ]
          },
          "metadata": {
            "tags": []
          },
          "execution_count": 136
        }
      ]
    },
    {
      "metadata": {
        "trusted": true,
        "_uuid": "5697e8801999e4e505f90165a744eee21b4a29ee",
        "id": "bsXYCPBOwNLR",
        "colab_type": "code",
        "colab": {}
      },
      "cell_type": "code",
      "source": [
        "X_train = np.array(train.feature.tolist())\n",
        "y_train = np.array(train.label.tolist())\n",
        "\n",
        "X_val = np.array(val.feature.tolist())\n",
        "y_val = np.array(val.label.tolist())\n",
        "\n",
        "lb = LabelEncoder()\n",
        "\n",
        "y_train = np_utils.to_categorical(lb.fit_transform(y_train))\n",
        "y_val = np_utils.to_categorical(lb.fit_transform(y_val))"
      ],
      "execution_count": 0,
      "outputs": []
    },
    {
      "metadata": {
        "trusted": true,
        "_uuid": "8c53525281ddcbc342c546210e541a65e0c05447",
        "id": "53PAVsnnwNLT",
        "colab_type": "code",
        "colab": {},
        "outputId": "9d27cdb1-0b47-446f-b325-844b69dfa907"
      },
      "cell_type": "code",
      "source": [
        "X_train.shape, y_train.shape, X_val.shape, y_val.shape"
      ],
      "execution_count": 0,
      "outputs": [
        {
          "output_type": "execute_result",
          "data": {
            "text/plain": [
              "((21105, 40), (21105, 10), (2577, 40), (2577, 10))"
            ]
          },
          "metadata": {
            "tags": []
          },
          "execution_count": 139
        }
      ]
    },
    {
      "metadata": {
        "trusted": true,
        "_uuid": "1c907447061f0cee1ea3642c297c0f2de74bdbc3",
        "id": "CuPhhJViwNLV",
        "colab_type": "code",
        "colab": {}
      },
      "cell_type": "code",
      "source": [
        "ncols = X_train.shape[1]\n",
        "model = Sequential()\n",
        "\n",
        "model.add(Dense(1024, activation = 'relu', input_shape = (ncols,)))\n",
        "model.add(Dropout(0.5))\n",
        "\n",
        "model.add(Dense(512, activation = 'relu'))\n",
        "model.add(Dropout(0.5))\n",
        "\n",
        "model.add(Dense(256, activation = 'relu'))\n",
        "model.add(Dropout(0.5))\n",
        "\n",
        "model.add(Dense(128, activation = 'relu'))\n",
        "model.add(Dropout(0.5))\n",
        "\n",
        "model.add(Dense(y_train.shape[1], activation = 'softmax'))\n",
        "\n",
        "model.compile(optimizer = 'adam', loss = 'categorical_crossentropy', metrics = ['accuracy'])"
      ],
      "execution_count": 0,
      "outputs": []
    },
    {
      "metadata": {
        "trusted": true,
        "_uuid": "105aeee16091f95a96530350f173491d1bd45f2a",
        "scrolled": true,
        "id": "2CKR5UUowNLZ",
        "colab_type": "code",
        "colab": {},
        "outputId": "28ccfccf-03e3-4ddf-b008-f6c76beb32f0"
      },
      "cell_type": "code",
      "source": [
        "%%time\n",
        "model.fit(X_train, y_train, batch_size = 32, epochs = 10, validation_data = [X_val, y_val])"
      ],
      "execution_count": 0,
      "outputs": [
        {
          "output_type": "stream",
          "text": [
            "Train on 21105 samples, validate on 2577 samples\n",
            "Epoch 1/10\n",
            "21105/21105 [==============================] - 9s 406us/step - loss: 14.4880 - acc: 0.0983 - val_loss: 14.4669 - val_acc: 0.1024\n",
            "Epoch 2/10\n",
            "21105/21105 [==============================] - 8s 397us/step - loss: 14.4947 - acc: 0.1005 - val_loss: 14.4669 - val_acc: 0.1024\n",
            "Epoch 3/10\n",
            "21105/21105 [==============================] - 7s 337us/step - loss: 14.5198 - acc: 0.0991 - val_loss: 14.4669 - val_acc: 0.1024\n",
            "Epoch 4/10\n",
            "21105/21105 [==============================] - 7s 327us/step - loss: 14.5174 - acc: 0.0993 - val_loss: 14.4669 - val_acc: 0.1024\n",
            "Epoch 5/10\n",
            "21105/21105 [==============================] - 7s 328us/step - loss: 14.5174 - acc: 0.0993 - val_loss: 14.4669 - val_acc: 0.1024\n",
            "Epoch 6/10\n",
            "21105/21105 [==============================] - 7s 329us/step - loss: 14.5181 - acc: 0.0993 - val_loss: 14.4669 - val_acc: 0.1024\n",
            "Epoch 7/10\n",
            "21105/21105 [==============================] - 7s 330us/step - loss: 14.5181 - acc: 0.0993 - val_loss: 14.4669 - val_acc: 0.1024\n",
            "Epoch 8/10\n",
            "21105/21105 [==============================] - 7s 333us/step - loss: 14.5181 - acc: 0.0993 - val_loss: 14.4669 - val_acc: 0.1024\n",
            "Epoch 9/10\n",
            "21105/21105 [==============================] - 7s 333us/step - loss: 14.5166 - acc: 0.0994 - val_loss: 14.4669 - val_acc: 0.1024\n",
            "Epoch 10/10\n",
            "21105/21105 [==============================] - 7s 335us/step - loss: 14.5181 - acc: 0.0993 - val_loss: 14.4669 - val_acc: 0.1024\n"
          ],
          "name": "stdout"
        },
        {
          "output_type": "execute_result",
          "data": {
            "text/plain": [
              "<keras.callbacks.History at 0x7f0d31f8eda0>"
            ]
          },
          "metadata": {
            "tags": []
          },
          "execution_count": 146
        }
      ]
    },
    {
      "metadata": {
        "trusted": true,
        "_uuid": "053f24eba46c32bd67c8b0be5c0d5bcbcec5df7a",
        "id": "XK3QtzNZwNLc",
        "colab_type": "code",
        "colab": {},
        "outputId": "133cfa7b-3488-4474-b520-173a407dffc7"
      },
      "cell_type": "code",
      "source": [
        "X_train.reshape(X_train.shape[0], 8, 5, 1).shape"
      ],
      "execution_count": 0,
      "outputs": [
        {
          "output_type": "execute_result",
          "data": {
            "text/plain": [
              "(21105, 8, 5, 1)"
            ]
          },
          "metadata": {
            "tags": []
          },
          "execution_count": 164
        }
      ]
    },
    {
      "metadata": {
        "_cell_guid": "79c7e3d0-c299-4dcb-8224-4455121ee9b0",
        "_uuid": "d629ff2d2480ee46fbb7e2d37f6b5fab8052498a",
        "trusted": true,
        "scrolled": true,
        "id": "wtozPeRAwNLe",
        "colab_type": "code",
        "colab": {}
      },
      "cell_type": "code",
      "source": [
        "model = Sequential()\n",
        "model.add(Conv2D(32, kernel_size=(2, 2), activation='relu', input_shape=(8, 5, 1)))\n",
        "model.add(MaxPooling2D(pool_size=(2, 2)))\n",
        "model.add(Dropout(0.25))\n",
        "model.add(Flatten())\n",
        "model.add(Dense(128, activation='relu'))\n",
        "model.add(Dropout(0.25))\n",
        "model.add(Dense(y_train.shape[1], activation = 'softmax'))\n",
        "\n",
        "model.compile(optimizer = 'adam', loss = 'categorical_crossentropy', metrics = ['accuracy'])"
      ],
      "execution_count": 0,
      "outputs": []
    },
    {
      "metadata": {
        "trusted": true,
        "_uuid": "bd62843f696b03229aa4d8ef7c22ea8a536cd5b0",
        "id": "wP2G3ylPwNLg",
        "colab_type": "code",
        "colab": {},
        "outputId": "d9ace895-728d-4958-bded-464da8a1c9de"
      },
      "cell_type": "code",
      "source": [
        "%%time\n",
        "model.fit(X_train.reshape(X_train.shape[0], 8, 5, 1), y_train, batch_size = 32, epochs = 10, validation_data = [X_val.reshape(X_val.shape[0], 8, 5, 1), y_val], verbose = 1)"
      ],
      "execution_count": 0,
      "outputs": [
        {
          "output_type": "stream",
          "text": [
            "Train on 21105 samples, validate on 2577 samples\n",
            "Epoch 1/10\n",
            "21105/21105 [==============================] - 2s 93us/step - loss: 1.8132 - acc: 0.3497 - val_loss: 1.7022 - val_acc: 0.4296\n",
            "Epoch 2/10\n",
            "21105/21105 [==============================] - 2s 80us/step - loss: 1.8085 - acc: 0.3544 - val_loss: 1.7039 - val_acc: 0.4288\n",
            "Epoch 3/10\n",
            "21105/21105 [==============================] - 2s 78us/step - loss: 1.8042 - acc: 0.3547 - val_loss: 1.6959 - val_acc: 0.4106\n",
            "Epoch 4/10\n",
            "21105/21105 [==============================] - 2s 78us/step - loss: 1.7984 - acc: 0.3548 - val_loss: 1.6864 - val_acc: 0.4133\n",
            "Epoch 5/10\n",
            "21105/21105 [==============================] - 2s 77us/step - loss: 1.8019 - acc: 0.3569 - val_loss: 1.6937 - val_acc: 0.4187\n",
            "Epoch 6/10\n",
            "21105/21105 [==============================] - 2s 78us/step - loss: 1.7972 - acc: 0.3577 - val_loss: 1.7058 - val_acc: 0.4183\n",
            "Epoch 7/10\n",
            "21105/21105 [==============================] - 2s 78us/step - loss: 1.8005 - acc: 0.3575 - val_loss: 1.6840 - val_acc: 0.4203\n",
            "Epoch 8/10\n",
            "21105/21105 [==============================] - 2s 77us/step - loss: 1.7939 - acc: 0.3608 - val_loss: 1.6898 - val_acc: 0.4226\n",
            "Epoch 9/10\n",
            "21105/21105 [==============================] - 2s 78us/step - loss: 1.7883 - acc: 0.3610 - val_loss: 1.6876 - val_acc: 0.4284\n",
            "Epoch 10/10\n",
            "21105/21105 [==============================] - 2s 77us/step - loss: 1.7936 - acc: 0.3637 - val_loss: 1.6978 - val_acc: 0.4214\n",
            "CPU times: user 28.9 s, sys: 5.34 s, total: 34.3 s\n",
            "Wall time: 16.8 s\n"
          ],
          "name": "stdout"
        },
        {
          "output_type": "execute_result",
          "data": {
            "text/plain": [
              "<keras.callbacks.History at 0x7f0d310b5dd8>"
            ]
          },
          "metadata": {
            "tags": []
          },
          "execution_count": 173
        }
      ]
    }
  ]
}