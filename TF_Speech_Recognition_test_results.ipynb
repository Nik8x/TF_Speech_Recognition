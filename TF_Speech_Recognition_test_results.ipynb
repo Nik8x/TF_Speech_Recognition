{
  "nbformat": 4,
  "nbformat_minor": 0,
  "metadata": {
    "colab": {
      "name": "TF_Speech_Recognition.ipynb",
      "version": "0.3.2",
      "provenance": [],
      "collapsed_sections": [],
      "include_colab_link": true
    },
    "kernelspec": {
      "name": "python3",
      "display_name": "Python 3"
    },
    "accelerator": "TPU"
  },
  "cells": [
    {
      "cell_type": "markdown",
      "metadata": {
        "id": "view-in-github",
        "colab_type": "text"
      },
      "source": [
        "<a href=\"https://colab.research.google.com/github/Nik8x/TF_Speech_Recognition/blob/master/TF_Speech_Recognition_test_results.ipynb\" target=\"_parent\"><img src=\"https://colab.research.google.com/assets/colab-badge.svg\" alt=\"Open In Colab\"/></a>"
      ]
    },
    {
      "metadata": {
        "_uuid": "380c22d03aa32cb02563babaf256ee0468de8476",
        "trusted": true,
        "id": "hCf32NrxO95G",
        "colab_type": "code",
        "outputId": "e3e12079-ae6a-4095-8592-1044ce53e3f1",
        "colab": {
          "base_uri": "https://localhost:8080/",
          "height": 34
        }
      },
      "cell_type": "code",
      "source": [
        "import glob\n",
        "import os\n",
        "import pandas as pd\n",
        "import numpy as np\n",
        "import librosa\n",
        "import librosa.display\n",
        "import matplotlib.pyplot as plt\n",
        "%matplotlib inline\n",
        "import IPython\n",
        "\n",
        "import tensorflow as tf\n",
        "from keras.models import Sequential\n",
        "from keras.layers import Dense, Dropout, Activation, Flatten, Convolution2D, MaxPooling2D, Conv2D\n",
        "from keras.optimizers import Adam\n",
        "from keras.utils import np_utils\n",
        "from sklearn import metrics\n",
        "from sklearn.preprocessing import LabelEncoder\n",
        "\n",
        "import os\n",
        "\n",
        "# Any results you write to the current directory are saved as output.\n",
        "from google.colab import drive\n",
        "drive.mount('/content/gdrive')"
      ],
      "execution_count": 0,
      "outputs": [
        {
          "output_type": "stream",
          "text": [
            "Drive already mounted at /content/gdrive; to attempt to forcibly remount, call drive.mount(\"/content/gdrive\", force_remount=True).\n"
          ],
          "name": "stdout"
        }
      ]
    },
    {
      "metadata": {
        "id": "18D9PnqxZTpV",
        "colab_type": "code",
        "outputId": "47e606d8-dc7b-45cc-e20e-b104acc84864",
        "colab": {
          "base_uri": "https://localhost:8080/",
          "height": 51
        }
      },
      "cell_type": "code",
      "source": [
        "print(\"The current directory is: \", os.getcwd())\n",
        "import os\n",
        "os.chdir(\"/content/gdrive/My Drive/Galvanize Adm/TF_Speech_Recognition\")\n",
        "print(\"The current directory is: \", os.getcwd())"
      ],
      "execution_count": 0,
      "outputs": [
        {
          "output_type": "stream",
          "text": [
            "The current directory is:  /content\n",
            "The current directory is:  /content/gdrive/My Drive/Galvanize Adm/TF_Speech_Recognition\n"
          ],
          "name": "stdout"
        }
      ]
    },
    {
      "metadata": {
        "id": "2Un4LDyZZYrZ",
        "colab_type": "code",
        "outputId": "9c2f8182-e496-4341-9df4-f70b08464bbd",
        "colab": {
          "base_uri": "https://localhost:8080/",
          "height": 221
        }
      },
      "cell_type": "code",
      "source": [
        "os.listdir()"
      ],
      "execution_count": 0,
      "outputs": [
        {
          "output_type": "execute_result",
          "data": {
            "text/plain": [
              "['test_list.txt',\n",
              " 'val_list.txt',\n",
              " 'dfff.csv',\n",
              " 'array.csv',\n",
              " 'sample_submission.7z',\n",
              " 'train.7z',\n",
              " 'test.7z',\n",
              " 'test_1',\n",
              " 'test_df.csv',\n",
              " 'tfsr.h5',\n",
              " 'sample_submission.csv',\n",
              " 'TF_Speech_Recognition.ipynb']"
            ]
          },
          "metadata": {
            "tags": []
          },
          "execution_count": 3
        }
      ]
    },
    {
      "metadata": {
        "id": "fdJ2NCnqRr41",
        "colab_type": "code",
        "colab": {}
      },
      "cell_type": "code",
      "source": [
        "#!sudo apt install p7zip"
      ],
      "execution_count": 0,
      "outputs": []
    },
    {
      "metadata": {
        "colab_type": "code",
        "id": "k9661RxBJaQz",
        "colab": {}
      },
      "cell_type": "code",
      "source": [
        "#!p7zip -d test.7z"
      ],
      "execution_count": 0,
      "outputs": []
    },
    {
      "metadata": {
        "id": "l8h8Nua1QyKj",
        "colab_type": "code",
        "colab": {}
      },
      "cell_type": "code",
      "source": [
        "# # let's unzip test.7z \n",
        "# from zipfile import ZipFile\n",
        "# zf = ZipFile('test.7z', 'r')\n",
        "# zf.extractall('.')\n",
        "# zf.close()"
      ],
      "execution_count": 0,
      "outputs": []
    },
    {
      "metadata": {
        "_uuid": "e645022200c4b813a18bc272552b8507e28dea95",
        "trusted": true,
        "id": "yGdzD19JO95M",
        "colab_type": "code",
        "colab": {}
      },
      "cell_type": "code",
      "source": [
        "# for use in Kaggle as the audio files are not saved in Colabs - Loading the files, let's see total audio files for each label\n",
        "# label = []\n",
        "# counts = []\n",
        "# for i in os.listdir('../input/train/audio/'):\n",
        "#     label.append(i)\n",
        "#     counts.append(len(os.listdir('../input/train/audio/' + i)))\n",
        "    \n",
        "# df = pd.DataFrame([label, counts]).T.set_index([0])\n",
        "# df"
      ],
      "execution_count": 0,
      "outputs": []
    },
    {
      "metadata": {
        "_uuid": "bf807e977b790d3a633bef1762504ea82235fce0",
        "trusted": true,
        "id": "n-5QUbVGO95U",
        "colab_type": "code",
        "colab": {}
      },
      "cell_type": "code",
      "source": [
        "# # Total number of audio files\n",
        "# np.sum(df[1])"
      ],
      "execution_count": 0,
      "outputs": []
    },
    {
      "metadata": {
        "_uuid": "c6b44e4bbe45145797a05c2416cdce1416edd4ef",
        "trusted": true,
        "id": "a1djgdDyO95a",
        "colab_type": "code",
        "colab": {}
      },
      "cell_type": "code",
      "source": [
        "# os.listdir('../input/')"
      ],
      "execution_count": 0,
      "outputs": []
    },
    {
      "metadata": {
        "_uuid": "17f6e6f0a4bbda1960325d3720e433dcb28a4a40",
        "trusted": true,
        "id": "8Si439CrO95g",
        "colab_type": "code",
        "colab": {}
      },
      "cell_type": "code",
      "source": [
        "# Saving files from test and validation list\n",
        "# test_list = open('../input/train/testing_list.txt').read().split('\\n')\n",
        "# val_list = open('../input/train/validation_list.txt').read().split('\\n')"
      ],
      "execution_count": 0,
      "outputs": []
    },
    {
      "metadata": {
        "trusted": true,
        "_uuid": "2b8a0cf0229f6ae0bc51c45438e53b794aae443e",
        "id": "Ld5dpvqcO95n",
        "colab_type": "code",
        "colab": {}
      },
      "cell_type": "code",
      "source": [
        "# # let us save the above list in our directory, so we can load it afterwards.  This will be easier for us to avoid opening the aduio files\n",
        "# with open(\"test_list.txt\", \"w\") as output:\n",
        "#     output.write(str(test_list))\n",
        "    \n",
        "# with open(\"val_list.txt\", \"w\") as output:\n",
        "#     output.write(str(val_list))"
      ],
      "execution_count": 0,
      "outputs": []
    },
    {
      "metadata": {
        "_uuid": "649c8f92bae04eb7cf9a855233719be2c896fbea",
        "trusted": true,
        "id": "ixCB6ThWO95u",
        "colab_type": "code",
        "colab": {}
      },
      "cell_type": "code",
      "source": [
        "# Checking the lenght of the list\n",
        "# len(test_list), len(val_list)"
      ],
      "execution_count": 0,
      "outputs": []
    },
    {
      "metadata": {
        "_uuid": "ddd8acc2801732d222b9d126f31f076c199c018a",
        "trusted": true,
        "id": "bNrZUKG5O951",
        "colab_type": "code",
        "colab": {}
      },
      "cell_type": "code",
      "source": [
        "#Playint on audio file\n",
        "# IPython.display.Audio('../input/train/audio/right/bf8d5617_nohash_0.wav')"
      ],
      "execution_count": 0,
      "outputs": []
    },
    {
      "metadata": {
        "_uuid": "9742e2eb4208cde9680b3b7d43a4c82769f07b07",
        "trusted": true,
        "id": "zVkME3pIO958",
        "colab_type": "code",
        "colab": {}
      },
      "cell_type": "code",
      "source": [
        "#Labels that Kaggle has asked us to use for the competition\n",
        "# labels_in_test = ['yes', 'no', 'up', 'down', 'left', 'right', 'on', 'off', 'stop', 'go']\n",
        "# df = df.loc[labels_in_test]\n",
        "# df"
      ],
      "execution_count": 0,
      "outputs": []
    },
    {
      "metadata": {
        "_uuid": "54a99c0fbb4c4d220f1fc4bad08a609361e1ac4e",
        "trusted": true,
        "id": "oyFWHIyKO96C",
        "colab_type": "code",
        "colab": {}
      },
      "cell_type": "code",
      "source": [
        "# Total number of files in the labels_in_test\n",
        "# np.sum(df[1])"
      ],
      "execution_count": 0,
      "outputs": []
    },
    {
      "metadata": {
        "_uuid": "d019ef32660db13b6c5e1e09926aae5f801b8cd0",
        "trusted": true,
        "id": "JTh6Us5tO96I",
        "colab_type": "code",
        "colab": {}
      },
      "cell_type": "code",
      "source": [
        "# Loading the audio file as an array using the librosa's mfcc - we do this since our keras model only understands arrays(or numbers) and we\n",
        "# cannot feed the audio file directly.\n",
        "# %%time\n",
        "\n",
        "# def namestr(obj, namespace):\n",
        "#     return [name for name in namespace if namespace[name] is obj]\n",
        "\n",
        "# def extract_data(folder):\n",
        "#     dff = pd.DataFrame()\n",
        "#     names = []\n",
        "#     features = []\n",
        "#     data = []\n",
        "#     sampling_rate = []\n",
        "    \n",
        "#     for name in os.listdir('../input/train/audio/' + folder):\n",
        "#         data1, sampling_rate1 = librosa.load('../input/train/audio/' + folder + '/' + name, res_type = 'kaiser_fast')\n",
        "#         mfccs = np.mean(librosa.feature.mfcc(y = data1, sr = sampling_rate1, n_mfcc = 40).T, axis = 0)\n",
        "        \n",
        "#         data.append(data1)\n",
        "#         sampling_rate.append(sampling_rate1)\n",
        "#         features.append(mfccs)\n",
        "#         names.append(name)\n",
        "        \n",
        "#     return [names, data, sampling_rate, features]\n",
        "\n",
        "# train_new = pd.Series(labels_in_test).apply(extract_data)\n",
        "# train_new.columns = ['names', 'data', 'sampling_rate', 'features']"
      ],
      "execution_count": 0,
      "outputs": []
    },
    {
      "metadata": {
        "_uuid": "f4f26aca48684127ca0a951bde7b2c0c9a6fd36d",
        "trusted": true,
        "id": "9I-ND4_rO96O",
        "colab_type": "code",
        "colab": {}
      },
      "cell_type": "code",
      "source": [
        "# Connecting all the lists into one DataFrame\n",
        "# dfff = pd.DataFrame()\n",
        "# dfff['names'] = train_new[0][0] + train_new[1][0] + train_new[2][0] + train_new[3][0] + train_new[4][0] + train_new[5][0] + train_new[6][0] + train_new[7][0] + train_new[8][0] + train_new[9][0]\n",
        "# dfff['data'] = train_new[0][1] + train_new[1][1] + train_new[2][1] + train_new[3][1] + train_new[4][1] + train_new[5][1] + train_new[6][1] + train_new[7][1] + train_new[8][1] + train_new[9][1]\n",
        "# dfff['sampling_rate'] = train_new[0][2] + train_new[1][2] + train_new[2][2] + train_new[3][2] + train_new[4][2] + train_new[5][2] + train_new[6][2] + train_new[7][2] + train_new[8][2] + train_new[9][2]\n",
        "# dfff['features'] = train_new[0][3] + train_new[1][3] + train_new[2][3] + train_new[3][3] + train_new[4][3] + train_new[5][3] + train_new[6][3] + train_new[7][3] + train_new[8][3] + train_new[9][3]"
      ],
      "execution_count": 0,
      "outputs": []
    },
    {
      "metadata": {
        "_uuid": "6482c8953f8e6c67492d78c32aa9404bd7b8a133",
        "trusted": true,
        "id": "40swg_SPO96U",
        "colab_type": "code",
        "colab": {}
      },
      "cell_type": "code",
      "source": [
        "# Making a new list for the label column\n",
        "# label_all = []\n",
        "# for index in labels_in_test:\n",
        "#     label_all.append([index] * df.loc[index][1])"
      ],
      "execution_count": 0,
      "outputs": []
    },
    {
      "metadata": {
        "_uuid": "58bb17a274a7a87d865f99f9b90eb11777290d21",
        "trusted": true,
        "id": "QSn3ellCO96Y",
        "colab_type": "code",
        "colab": {}
      },
      "cell_type": "code",
      "source": [
        "# new list for the label column is now being put into the DataFrame\n",
        "# dfff['label'] = [item for sublist in label_all for item in sublist]"
      ],
      "execution_count": 0,
      "outputs": []
    },
    {
      "metadata": {
        "_uuid": "9a8aaf8363ef9d1f2f6e37084b18e50be328cb72",
        "trusted": true,
        "scrolled": true,
        "id": "C3VIhWnBO96f",
        "colab_type": "code",
        "colab": {}
      },
      "cell_type": "code",
      "source": [
        "# print(dfff.shape)\n",
        "# dfff.head()"
      ],
      "execution_count": 0,
      "outputs": []
    },
    {
      "metadata": {
        "_uuid": "a0a3571f945ddd758337d064520ceaf95e2b74f9",
        "trusted": true,
        "id": "cQhUOZoqO96n",
        "colab_type": "code",
        "colab": {}
      },
      "cell_type": "code",
      "source": [
        "# Saving the DataFrame as a csv file to avoid using the audio files going forward\n",
        "# dfff.to_csv(\"dfff.csv\", index = False, sep = ',')"
      ],
      "execution_count": 0,
      "outputs": []
    },
    {
      "metadata": {
        "id": "GAPxovNN0k35",
        "colab_type": "code",
        "colab": {}
      },
      "cell_type": "code",
      "source": [
        "# Converting the string of arrays to a proper array\n",
        "def converter(instr):\n",
        "    return np.fromstring(instr[1:-1],sep=' ')"
      ],
      "execution_count": 0,
      "outputs": []
    },
    {
      "metadata": {
        "id": "7rkSESKYPS3O",
        "colab_type": "code",
        "colab": {}
      },
      "cell_type": "code",
      "source": [
        "dfff = pd.read_csv(\"dfff.csv\", converters = {'features' : converter})"
      ],
      "execution_count": 0,
      "outputs": []
    },
    {
      "metadata": {
        "id": "T_82n51DmVtT",
        "colab_type": "code",
        "outputId": "78cd1d62-0b97-45c2-a48a-95fae1897416",
        "colab": {
          "base_uri": "https://localhost:8080/",
          "height": 204
        }
      },
      "cell_type": "code",
      "source": [
        "dfff.head()"
      ],
      "execution_count": 0,
      "outputs": [
        {
          "output_type": "execute_result",
          "data": {
            "text/html": [
              "<div>\n",
              "<style scoped>\n",
              "    .dataframe tbody tr th:only-of-type {\n",
              "        vertical-align: middle;\n",
              "    }\n",
              "\n",
              "    .dataframe tbody tr th {\n",
              "        vertical-align: top;\n",
              "    }\n",
              "\n",
              "    .dataframe thead th {\n",
              "        text-align: right;\n",
              "    }\n",
              "</style>\n",
              "<table border=\"1\" class=\"dataframe\">\n",
              "  <thead>\n",
              "    <tr style=\"text-align: right;\">\n",
              "      <th></th>\n",
              "      <th>Unnamed: 0</th>\n",
              "      <th>names</th>\n",
              "      <th>feature</th>\n",
              "      <th>label</th>\n",
              "    </tr>\n",
              "  </thead>\n",
              "  <tbody>\n",
              "    <tr>\n",
              "      <th>0</th>\n",
              "      <td>0</td>\n",
              "      <td>5fe4a278_nohash_1.wav</td>\n",
              "      <td>[-360.960392, 95.2412528, -45.965287, 61.02619...</td>\n",
              "      <td>yes</td>\n",
              "    </tr>\n",
              "    <tr>\n",
              "      <th>1</th>\n",
              "      <td>1</td>\n",
              "      <td>4def68db_nohash_1.wav</td>\n",
              "      <td>[-350.560308, 95.8547696, -18.2142555, 43.4533...</td>\n",
              "      <td>yes</td>\n",
              "    </tr>\n",
              "    <tr>\n",
              "      <th>2</th>\n",
              "      <td>2</td>\n",
              "      <td>3d53244b_nohash_3.wav</td>\n",
              "      <td>[-452.935767, 48.5914362, -8.35673584, 39.4135...</td>\n",
              "      <td>yes</td>\n",
              "    </tr>\n",
              "    <tr>\n",
              "      <th>3</th>\n",
              "      <td>3</td>\n",
              "      <td>62ef962d_nohash_1.wav</td>\n",
              "      <td>[-304.877085, 60.8177152, -32.5946494, 18.1406...</td>\n",
              "      <td>yes</td>\n",
              "    </tr>\n",
              "    <tr>\n",
              "      <th>4</th>\n",
              "      <td>4</td>\n",
              "      <td>264f471d_nohash_3.wav</td>\n",
              "      <td>[-305.40941638, 100.41015856, -2.31436065, 58....</td>\n",
              "      <td>yes</td>\n",
              "    </tr>\n",
              "  </tbody>\n",
              "</table>\n",
              "</div>"
            ],
            "text/plain": [
              "   Unnamed: 0                  names  \\\n",
              "0           0  5fe4a278_nohash_1.wav   \n",
              "1           1  4def68db_nohash_1.wav   \n",
              "2           2  3d53244b_nohash_3.wav   \n",
              "3           3  62ef962d_nohash_1.wav   \n",
              "4           4  264f471d_nohash_3.wav   \n",
              "\n",
              "                                             feature label  \n",
              "0  [-360.960392, 95.2412528, -45.965287, 61.02619...   yes  \n",
              "1  [-350.560308, 95.8547696, -18.2142555, 43.4533...   yes  \n",
              "2  [-452.935767, 48.5914362, -8.35673584, 39.4135...   yes  \n",
              "3  [-304.877085, 60.8177152, -32.5946494, 18.1406...   yes  \n",
              "4  [-305.40941638, 100.41015856, -2.31436065, 58....   yes  "
            ]
          },
          "metadata": {
            "tags": []
          },
          "execution_count": 24
        }
      ]
    },
    {
      "metadata": {
        "trusted": true,
        "_uuid": "cd862f1d911938130919ed7b86284993b523cb53",
        "id": "h2QfNtckO96r",
        "colab_type": "code",
        "colab": {}
      },
      "cell_type": "code",
      "source": [
        "# Loading the test and validation list\n",
        "import ast\n",
        "with open(\"test_list.txt\", \"r\") as f:\n",
        "    test_list = ast.literal_eval(f.read())\n",
        "    \n",
        "with open(\"val_list.txt\", \"r\") as f:\n",
        "    val_list = ast.literal_eval(f.read())"
      ],
      "execution_count": 0,
      "outputs": []
    },
    {
      "metadata": {
        "_uuid": "ab2d5154f3f90b0e9a47c438e23901a49656441d",
        "trusted": true,
        "id": "s5mMuqAjO96x",
        "colab_type": "code",
        "outputId": "19dae678-1324-4e54-c896-da070586f972",
        "colab": {
          "base_uri": "https://localhost:8080/",
          "height": 34
        }
      },
      "cell_type": "code",
      "source": [
        "# Extracting the names of the files which Kaggle has asked us to validate upon\n",
        "val_list_all = pd.Series(val_list[:-1]).apply(lambda x: x.split('/')[1])\n",
        "test_list_all = pd.Series(test_list[:-1]).apply(lambda x: x.split('/')[1])\n",
        "len(val_list_all), len(test_list_all)"
      ],
      "execution_count": 0,
      "outputs": [
        {
          "output_type": "execute_result",
          "data": {
            "text/plain": [
              "(6798, 6835)"
            ]
          },
          "metadata": {
            "tags": []
          },
          "execution_count": 26
        }
      ]
    },
    {
      "metadata": {
        "_uuid": "c0c76abe591a71499c273d280f30357fde22935a",
        "trusted": true,
        "id": "LV1E4YGqO964",
        "colab_type": "code",
        "outputId": "a1674dc6-75bc-45a1-f016-c903007a2237",
        "colab": {
          "base_uri": "https://localhost:8080/",
          "height": 51
        }
      },
      "cell_type": "code",
      "source": [
        "# Making a DataFrame from the val_list\n",
        "val = dfff[dfff.names.isin(val_list_all)]\n",
        "val = val.iloc[np.random.permutation(len(val))]  # Shuffle DataFrame rows\n",
        "print(val.shape)\n",
        "\n",
        "train = dfff[~dfff.names.isin(val_list_all)]\n",
        "train = train.iloc[np.random.permutation(len(train))] # Shuffle DataFrame rows\n",
        "print(train.shape)"
      ],
      "execution_count": 0,
      "outputs": [
        {
          "output_type": "stream",
          "text": [
            "(2577, 4)\n",
            "(21105, 4)\n"
          ],
          "name": "stdout"
        }
      ]
    },
    {
      "metadata": {
        "_uuid": "20842150222b8b12c06075cc9f0ee75344e4e88d",
        "trusted": true,
        "id": "opYVZrQ4O96-",
        "colab_type": "code",
        "outputId": "9887ed54-9bda-4073-b28c-75d01a01ee04",
        "colab": {
          "base_uri": "https://localhost:8080/",
          "height": 204
        }
      },
      "cell_type": "code",
      "source": [
        "train.head()"
      ],
      "execution_count": 0,
      "outputs": [
        {
          "output_type": "execute_result",
          "data": {
            "text/html": [
              "<div>\n",
              "<style scoped>\n",
              "    .dataframe tbody tr th:only-of-type {\n",
              "        vertical-align: middle;\n",
              "    }\n",
              "\n",
              "    .dataframe tbody tr th {\n",
              "        vertical-align: top;\n",
              "    }\n",
              "\n",
              "    .dataframe thead th {\n",
              "        text-align: right;\n",
              "    }\n",
              "</style>\n",
              "<table border=\"1\" class=\"dataframe\">\n",
              "  <thead>\n",
              "    <tr style=\"text-align: right;\">\n",
              "      <th></th>\n",
              "      <th>Unnamed: 0</th>\n",
              "      <th>names</th>\n",
              "      <th>feature</th>\n",
              "      <th>label</th>\n",
              "    </tr>\n",
              "  </thead>\n",
              "  <tbody>\n",
              "    <tr>\n",
              "      <th>8754</th>\n",
              "      <td>8754</td>\n",
              "      <td>3402e488_nohash_2.wav</td>\n",
              "      <td>[-549.733726, 79.4955328, -30.9182076, 26.1704...</td>\n",
              "      <td>down</td>\n",
              "    </tr>\n",
              "    <tr>\n",
              "      <th>7337</th>\n",
              "      <td>7337</td>\n",
              "      <td>13d7b8c9_nohash_0.wav</td>\n",
              "      <td>[-344.692373, 90.9073308, -45.5252204, 17.4863...</td>\n",
              "      <td>down</td>\n",
              "    </tr>\n",
              "    <tr>\n",
              "      <th>9957</th>\n",
              "      <td>9957</td>\n",
              "      <td>11b1df78_nohash_1.wav</td>\n",
              "      <td>[-364.480762, 185.151613, -12.7927503, 26.2872...</td>\n",
              "      <td>left</td>\n",
              "    </tr>\n",
              "    <tr>\n",
              "      <th>21163</th>\n",
              "      <td>21163</td>\n",
              "      <td>39a12648_nohash_2.wav</td>\n",
              "      <td>[-211.56315848, 99.26927032, -70.97281211, 47....</td>\n",
              "      <td>stop</td>\n",
              "    </tr>\n",
              "    <tr>\n",
              "      <th>21926</th>\n",
              "      <td>21926</td>\n",
              "      <td>3e31dffe_nohash_1.wav</td>\n",
              "      <td>[-480.62956324, 129.7252135, -0.73859652, 21.9...</td>\n",
              "      <td>go</td>\n",
              "    </tr>\n",
              "  </tbody>\n",
              "</table>\n",
              "</div>"
            ],
            "text/plain": [
              "       Unnamed: 0                  names  \\\n",
              "8754         8754  3402e488_nohash_2.wav   \n",
              "7337         7337  13d7b8c9_nohash_0.wav   \n",
              "9957         9957  11b1df78_nohash_1.wav   \n",
              "21163       21163  39a12648_nohash_2.wav   \n",
              "21926       21926  3e31dffe_nohash_1.wav   \n",
              "\n",
              "                                                 feature label  \n",
              "8754   [-549.733726, 79.4955328, -30.9182076, 26.1704...  down  \n",
              "7337   [-344.692373, 90.9073308, -45.5252204, 17.4863...  down  \n",
              "9957   [-364.480762, 185.151613, -12.7927503, 26.2872...  left  \n",
              "21163  [-211.56315848, 99.26927032, -70.97281211, 47....  stop  \n",
              "21926  [-480.62956324, 129.7252135, -0.73859652, 21.9...    go  "
            ]
          },
          "metadata": {
            "tags": []
          },
          "execution_count": 28
        }
      ]
    },
    {
      "metadata": {
        "_uuid": "5697e8801999e4e505f90165a744eee21b4a29ee",
        "trusted": true,
        "id": "H_AiqIZ_O97D",
        "colab_type": "code",
        "colab": {}
      },
      "cell_type": "code",
      "source": [
        "#Splitting into our X and y array\n",
        "X_train = np.array(train.features.tolist())\n",
        "y_train = np.array(train.label.tolist())\n",
        "\n",
        "X_val = np.array(val.features.tolist())\n",
        "y_val = np.array(val.label.tolist())\n",
        "\n",
        "lb = LabelEncoder()\n",
        "\n",
        "y_train = np_utils.to_categorical(lb.fit_transform(y_train))\n",
        "y_val = np_utils.to_categorical(lb.fit_transform(y_val))"
      ],
      "execution_count": 0,
      "outputs": []
    },
    {
      "metadata": {
        "_uuid": "8c53525281ddcbc342c546210e541a65e0c05447",
        "trusted": true,
        "id": "Ahyaquy4O97J",
        "colab_type": "code",
        "outputId": "5d9f4d80-6563-440d-f4b2-2d33e410b9c1",
        "colab": {
          "base_uri": "https://localhost:8080/",
          "height": 34
        }
      },
      "cell_type": "code",
      "source": [
        "X_train.shape, y_train.shape, X_val.shape, y_val.shape"
      ],
      "execution_count": 0,
      "outputs": [
        {
          "output_type": "execute_result",
          "data": {
            "text/plain": [
              "((21105, 40), (21105, 10), (2577, 40), (2577, 10))"
            ]
          },
          "metadata": {
            "tags": []
          },
          "execution_count": 31
        }
      ]
    },
    {
      "metadata": {
        "_uuid": "1c907447061f0cee1ea3642c297c0f2de74bdbc3",
        "trusted": true,
        "id": "7PCK4B_wO97O",
        "colab_type": "code",
        "colab": {}
      },
      "cell_type": "code",
      "source": [
        "# # Here we are using deep learning using a sequential model with three hidden layers\n",
        "# ncols = X_train.shape[1]\n",
        "# model = Sequential()\n",
        "\n",
        "# model.add(Dense(1024, activation = 'relu', input_shape = (ncols,)))\n",
        "# model.add(Dropout(0.5))\n",
        "\n",
        "# model.add(Dense(512, activation = 'relu'))\n",
        "# model.add(Dropout(0.5))\n",
        "\n",
        "# model.add(Dense(256, activation = 'relu'))\n",
        "# model.add(Dropout(0.5))\n",
        "\n",
        "# model.add(Dense(128, activation = 'relu'))\n",
        "# model.add(Dropout(0.5))\n",
        "\n",
        "# model.add(Dense(y_train.shape[1], activation = 'softmax'))\n",
        "\n",
        "# model.compile(optimizer = 'adam', loss = 'categorical_crossentropy', metrics = ['accuracy'])"
      ],
      "execution_count": 0,
      "outputs": []
    },
    {
      "metadata": {
        "_uuid": "105aeee16091f95a96530350f173491d1bd45f2a",
        "scrolled": true,
        "trusted": true,
        "id": "5zwgNf0TO97S",
        "colab_type": "code",
        "colab": {}
      },
      "cell_type": "code",
      "source": [
        "# # Fitting the model\n",
        "# %%time\n",
        "# model.fit(X_train, y_train, batch_size = 32, epochs = 10, validation_data = [X_val, y_val])"
      ],
      "execution_count": 0,
      "outputs": []
    },
    {
      "metadata": {
        "_cell_guid": "79c7e3d0-c299-4dcb-8224-4455121ee9b0",
        "_uuid": "d629ff2d2480ee46fbb7e2d37f6b5fab8052498a",
        "scrolled": true,
        "trusted": true,
        "id": "scRrC_lfO97g",
        "colab_type": "code",
        "colab": {}
      },
      "cell_type": "code",
      "source": [
        "# # Applying CNN (deep learning)\n",
        "# model = Sequential()\n",
        "# model.add(Conv2D(32, kernel_size=(2, 2), activation='relu', input_shape=(8, 5, 1)))\n",
        "# model.add(MaxPooling2D(pool_size=(2, 2)))\n",
        "# model.add(Dropout(0.25))\n",
        "# model.add(Flatten())\n",
        "# model.add(Dense(128, activation='relu'))\n",
        "# model.add(Dropout(0.25))\n",
        "# model.add(Dense(y_train.shape[1], activation = 'softmax'))\n",
        "\n",
        "# model.compile(optimizer = 'adam', loss = 'categorical_crossentropy', metrics = ['accuracy'])\n",
        "# model.summary()\n",
        "\n",
        "# Applying CNN (deep learning)\n",
        "# %%time\n",
        "# model.fit(X_train.reshape(X_train.shape[0], 8, 5, 1), y_train, batch_size = 32, epochs = 50, validation_data = [X_val.reshape(X_val.shape[0], 8, 5, 1), y_val], verbose = 1)"
      ],
      "execution_count": 0,
      "outputs": []
    },
    {
      "metadata": {
        "trusted": true,
        "_uuid": "c836c6e5f1a473dd23e121e1b19d8f30eb52b6f0",
        "id": "P6J6O5WlO97k",
        "colab_type": "code",
        "outputId": "f86eaa1b-9d02-43ac-ec57-375c12afd5dc",
        "colab": {
          "base_uri": "https://localhost:8080/",
          "height": 476
        }
      },
      "cell_type": "code",
      "source": [
        "# Applying CNN (deep learning) with tpu\n",
        "model = tf.keras.models.Sequential()\n",
        "model.add(tf.keras.layers.Conv2D(32, kernel_size=(2, 2), activation='relu', input_shape=(8, 5, 1)))\n",
        "model.add(tf.keras.layers.MaxPooling2D(pool_size=(2, 2)))\n",
        "model.add(tf.keras.layers.Dropout(0.25))\n",
        "model.add(tf.keras.layers.Flatten())\n",
        "model.add(tf.keras.layers.Dense(128, activation='relu'))\n",
        "model.add(tf.keras.layers.Dropout(0.25))\n",
        "model.add(tf.keras.layers.Dense(y_train.shape[1], activation = 'softmax'))\n",
        "\n",
        "model.compile(optimizer = 'adam', loss = 'categorical_crossentropy', metrics = ['accuracy'])\n",
        "model.summary()"
      ],
      "execution_count": 0,
      "outputs": [
        {
          "output_type": "stream",
          "text": [
            "WARNING:tensorflow:From /usr/local/lib/python3.6/dist-packages/tensorflow/python/ops/resource_variable_ops.py:435: colocate_with (from tensorflow.python.framework.ops) is deprecated and will be removed in a future version.\n",
            "Instructions for updating:\n",
            "Colocations handled automatically by placer.\n",
            "WARNING:tensorflow:From /usr/local/lib/python3.6/dist-packages/tensorflow/python/keras/layers/core.py:143: calling dropout (from tensorflow.python.ops.nn_ops) with keep_prob is deprecated and will be removed in a future version.\n",
            "Instructions for updating:\n",
            "Please use `rate` instead of `keep_prob`. Rate should be set to `rate = 1 - keep_prob`.\n",
            "_________________________________________________________________\n",
            "Layer (type)                 Output Shape              Param #   \n",
            "=================================================================\n",
            "conv2d (Conv2D)              (None, 7, 4, 32)          160       \n",
            "_________________________________________________________________\n",
            "max_pooling2d (MaxPooling2D) (None, 3, 2, 32)          0         \n",
            "_________________________________________________________________\n",
            "dropout (Dropout)            (None, 3, 2, 32)          0         \n",
            "_________________________________________________________________\n",
            "flatten (Flatten)            (None, 192)               0         \n",
            "_________________________________________________________________\n",
            "dense (Dense)                (None, 128)               24704     \n",
            "_________________________________________________________________\n",
            "dropout_1 (Dropout)          (None, 128)               0         \n",
            "_________________________________________________________________\n",
            "dense_1 (Dense)              (None, 10)                1290      \n",
            "=================================================================\n",
            "Total params: 26,154\n",
            "Trainable params: 26,154\n",
            "Non-trainable params: 0\n",
            "_________________________________________________________________\n"
          ],
          "name": "stdout"
        }
      ]
    },
    {
      "metadata": {
        "id": "TrE89EOPdhCA",
        "colab_type": "code",
        "outputId": "99157b63-327e-4de1-cabf-9f91bf11d0cd",
        "colab": {
          "base_uri": "https://localhost:8080/",
          "height": 459
        }
      },
      "cell_type": "code",
      "source": [
        "TPU_WORKER = 'grpc://' + os.environ['COLAB_TPU_ADDR']\n",
        "tf.logging.set_verbosity(tf.logging.INFO)\n",
        "\n",
        "tpu_model = tf.contrib.tpu.keras_to_tpu_model(\n",
        "    model,\n",
        "    strategy=tf.contrib.tpu.TPUDistributionStrategy(\n",
        "        tf.contrib.cluster_resolver.TPUClusterResolver(TPU_WORKER)))"
      ],
      "execution_count": 0,
      "outputs": [
        {
          "output_type": "stream",
          "text": [
            "\n",
            "WARNING: The TensorFlow contrib module will not be included in TensorFlow 2.0.\n",
            "For more information, please see:\n",
            "  * https://github.com/tensorflow/community/blob/master/rfcs/20180907-contrib-sunset.md\n",
            "  * https://github.com/tensorflow/addons\n",
            "If you depend on functionality not listed there, please file an issue.\n",
            "\n",
            "INFO:tensorflow:Querying Tensorflow master (grpc://10.86.123.98:8470) for TPU system metadata.\n",
            "INFO:tensorflow:Found TPU system:\n",
            "INFO:tensorflow:*** Num TPU Cores: 8\n",
            "INFO:tensorflow:*** Num TPU Workers: 1\n",
            "INFO:tensorflow:*** Num TPU Cores Per Worker: 8\n",
            "INFO:tensorflow:*** Available Device: _DeviceAttributes(/job:worker/replica:0/task:0/device:CPU:0, CPU, -1, 9908395419379460952)\n",
            "INFO:tensorflow:*** Available Device: _DeviceAttributes(/job:worker/replica:0/task:0/device:XLA_CPU:0, XLA_CPU, 17179869184, 11439517981440160975)\n",
            "INFO:tensorflow:*** Available Device: _DeviceAttributes(/job:worker/replica:0/task:0/device:TPU:0, TPU, 17179869184, 1212404706152780327)\n",
            "INFO:tensorflow:*** Available Device: _DeviceAttributes(/job:worker/replica:0/task:0/device:TPU:1, TPU, 17179869184, 12049659652082386877)\n",
            "INFO:tensorflow:*** Available Device: _DeviceAttributes(/job:worker/replica:0/task:0/device:TPU:2, TPU, 17179869184, 1966401837543455855)\n",
            "INFO:tensorflow:*** Available Device: _DeviceAttributes(/job:worker/replica:0/task:0/device:TPU:3, TPU, 17179869184, 4490064321698689561)\n",
            "INFO:tensorflow:*** Available Device: _DeviceAttributes(/job:worker/replica:0/task:0/device:TPU:4, TPU, 17179869184, 13793037818812237758)\n",
            "INFO:tensorflow:*** Available Device: _DeviceAttributes(/job:worker/replica:0/task:0/device:TPU:5, TPU, 17179869184, 8847118372390118553)\n",
            "INFO:tensorflow:*** Available Device: _DeviceAttributes(/job:worker/replica:0/task:0/device:TPU:6, TPU, 17179869184, 15764082774091686476)\n",
            "INFO:tensorflow:*** Available Device: _DeviceAttributes(/job:worker/replica:0/task:0/device:TPU:7, TPU, 17179869184, 3198362694413858952)\n",
            "INFO:tensorflow:*** Available Device: _DeviceAttributes(/job:worker/replica:0/task:0/device:TPU_SYSTEM:0, TPU_SYSTEM, 17179869184, 11516689499842027663)\n",
            "WARNING:tensorflow:tpu_model (from tensorflow.contrib.tpu.python.tpu.keras_support) is experimental and may change or be removed at any time, and without warning.\n",
            "INFO:tensorflow:Cloning Adam {'lr': 0.0010000000474974513, 'beta_1': 0.8999999761581421, 'beta_2': 0.9990000128746033, 'decay': 0.0, 'epsilon': 1e-07, 'amsgrad': False}\n",
            "INFO:tensorflow:Cloning Adam {'lr': 0.0010000000474974513, 'beta_1': 0.8999999761581421, 'beta_2': 0.9990000128746033, 'decay': 0.0, 'epsilon': 1e-07, 'amsgrad': False}\n"
          ],
          "name": "stdout"
        }
      ]
    },
    {
      "metadata": {
        "id": "yzGX4sJnd8Nq",
        "colab_type": "code",
        "outputId": "28568b39-ad79-4dd6-dcc2-cff22fe3721e",
        "colab": {
          "base_uri": "https://localhost:8080/",
          "height": 408
        }
      },
      "cell_type": "code",
      "source": [
        "tpu_model.summary()"
      ],
      "execution_count": 0,
      "outputs": [
        {
          "output_type": "stream",
          "text": [
            "_________________________________________________________________\n",
            "Layer (type)                 Output Shape              Param #   \n",
            "=================================================================\n",
            "conv2d_input (InputLayer)    (None, 8, 5, 1)           0         \n",
            "_________________________________________________________________\n",
            "conv2d (Conv2D)              (None, 7, 4, 32)          160       \n",
            "_________________________________________________________________\n",
            "max_pooling2d (MaxPooling2D) (None, 3, 2, 32)          0         \n",
            "_________________________________________________________________\n",
            "dropout (Dropout)            (None, 3, 2, 32)          0         \n",
            "_________________________________________________________________\n",
            "flatten (Flatten)            (None, 192)               0         \n",
            "_________________________________________________________________\n",
            "dense (Dense)                (None, 128)               24704     \n",
            "_________________________________________________________________\n",
            "dropout_1 (Dropout)          (None, 128)               0         \n",
            "_________________________________________________________________\n",
            "dense_1 (Dense)              (None, 10)                1290      \n",
            "=================================================================\n",
            "Total params: 26,154\n",
            "Trainable params: 26,154\n",
            "Non-trainable params: 0\n",
            "_________________________________________________________________\n"
          ],
          "name": "stdout"
        }
      ]
    },
    {
      "metadata": {
        "_uuid": "faa94004997978041fee0edfabe8201e2578aa0b",
        "trusted": true,
        "id": "kOh6hNtSO97p",
        "colab_type": "code",
        "outputId": "fe6ee2ad-ba52-40e4-f845-ebd4347e7bd4",
        "colab": {
          "base_uri": "https://localhost:8080/",
          "height": 1938
        }
      },
      "cell_type": "code",
      "source": [
        "# Applying CNN (deep learning)\n",
        "%%time\n",
        "tpu_model.fit(X_train.reshape(X_train.shape[0], 8, 5, 1), y_train, batch_size = 32, epochs = 150, validation_data = [X_val.reshape(X_val.shape[0], 8, 5, 1), y_val], verbose = 1)"
      ],
      "execution_count": 0,
      "outputs": [
        {
          "output_type": "stream",
          "text": [
            "Train on 21105 samples, validate on 2577 samples\n",
            "Epoch 1/150\n",
            "21105/21105 [==============================] - 8s 364us/sample - loss: 1.7841 - acc: 0.3632 - val_loss: 1.6794 - val_acc: 0.4301\n",
            "Epoch 2/150\n",
            "21105/21105 [==============================] - 8s 372us/sample - loss: 1.7863 - acc: 0.3624 - val_loss: 1.6762 - val_acc: 0.4293\n",
            "Epoch 3/150\n",
            "21105/21105 [==============================] - 8s 361us/sample - loss: 1.7802 - acc: 0.3651 - val_loss: 1.6734 - val_acc: 0.4262\n",
            "Epoch 4/150\n",
            "21105/21105 [==============================] - 8s 363us/sample - loss: 1.7749 - acc: 0.3632 - val_loss: 1.6626 - val_acc: 0.4328\n",
            "Epoch 5/150\n",
            "21105/21105 [==============================] - 8s 364us/sample - loss: 1.7757 - acc: 0.3651 - val_loss: 1.7054 - val_acc: 0.4243\n",
            "Epoch 6/150\n",
            "21105/21105 [==============================] - 8s 359us/sample - loss: 1.7836 - acc: 0.3617 - val_loss: 1.6780 - val_acc: 0.4266\n",
            "Epoch 7/150\n",
            "21105/21105 [==============================] - 7s 352us/sample - loss: 1.7891 - acc: 0.3587 - val_loss: 1.6940 - val_acc: 0.4321\n",
            "Epoch 8/150\n",
            "21105/21105 [==============================] - 7s 346us/sample - loss: 1.7783 - acc: 0.3635 - val_loss: 1.6761 - val_acc: 0.4309\n",
            "Epoch 9/150\n",
            "21105/21105 [==============================] - 8s 356us/sample - loss: 1.7767 - acc: 0.3648 - val_loss: 1.6776 - val_acc: 0.4309\n",
            "Epoch 10/150\n",
            "21105/21105 [==============================] - 7s 334us/sample - loss: 1.7771 - acc: 0.3622 - val_loss: 1.6634 - val_acc: 0.4391\n",
            "Epoch 11/150\n",
            "21105/21105 [==============================] - 7s 342us/sample - loss: 1.7736 - acc: 0.3672 - val_loss: 1.6758 - val_acc: 0.4325\n",
            "Epoch 12/150\n",
            "21105/21105 [==============================] - 7s 352us/sample - loss: 1.7755 - acc: 0.3641 - val_loss: 1.6821 - val_acc: 0.4414\n",
            "Epoch 13/150\n",
            "21105/21105 [==============================] - 7s 348us/sample - loss: 1.7802 - acc: 0.3653 - val_loss: 1.6825 - val_acc: 0.4243\n",
            "Epoch 14/150\n",
            "21105/21105 [==============================] - 8s 374us/sample - loss: 1.7790 - acc: 0.3629 - val_loss: 1.6858 - val_acc: 0.4243\n",
            "Epoch 15/150\n",
            "21105/21105 [==============================] - 7s 352us/sample - loss: 1.7670 - acc: 0.3685 - val_loss: 1.6806 - val_acc: 0.4344\n",
            "Epoch 16/150\n",
            "21105/21105 [==============================] - 7s 351us/sample - loss: 1.7697 - acc: 0.3685 - val_loss: 1.6534 - val_acc: 0.4356\n",
            "Epoch 17/150\n",
            "21105/21105 [==============================] - 8s 373us/sample - loss: 1.7717 - acc: 0.3690 - val_loss: 1.6702 - val_acc: 0.4282\n",
            "Epoch 18/150\n",
            "21105/21105 [==============================] - 8s 370us/sample - loss: 1.7661 - acc: 0.3676 - val_loss: 1.6781 - val_acc: 0.4193\n",
            "Epoch 19/150\n",
            "21105/21105 [==============================] - 8s 372us/sample - loss: 1.7672 - acc: 0.3678 - val_loss: 1.6847 - val_acc: 0.4212\n",
            "Epoch 20/150\n",
            "21105/21105 [==============================] - 7s 354us/sample - loss: 1.7652 - acc: 0.3677 - val_loss: 1.6926 - val_acc: 0.4278\n",
            "Epoch 21/150\n",
            "21105/21105 [==============================] - 7s 348us/sample - loss: 1.7727 - acc: 0.3666 - val_loss: 1.6723 - val_acc: 0.4259\n",
            "Epoch 22/150\n",
            "21105/21105 [==============================] - 8s 367us/sample - loss: 1.7702 - acc: 0.3672 - val_loss: 1.6706 - val_acc: 0.4297\n",
            "Epoch 23/150\n",
            "21105/21105 [==============================] - 8s 368us/sample - loss: 1.7551 - acc: 0.3716 - val_loss: 1.6709 - val_acc: 0.4262\n",
            "Epoch 24/150\n",
            "21105/21105 [==============================] - 8s 388us/sample - loss: 1.7655 - acc: 0.3688 - val_loss: 1.6506 - val_acc: 0.4290\n",
            "Epoch 25/150\n",
            "21105/21105 [==============================] - 8s 363us/sample - loss: 1.7616 - acc: 0.3714 - val_loss: 1.6728 - val_acc: 0.4251\n",
            "Epoch 26/150\n",
            "21105/21105 [==============================] - 8s 372us/sample - loss: 1.7588 - acc: 0.3687 - val_loss: 1.6673 - val_acc: 0.4359\n",
            "Epoch 27/150\n",
            "21105/21105 [==============================] - 8s 368us/sample - loss: 1.7551 - acc: 0.3748 - val_loss: 1.6830 - val_acc: 0.4208\n",
            "Epoch 28/150\n",
            "21105/21105 [==============================] - 8s 387us/sample - loss: 1.7522 - acc: 0.3745 - val_loss: 1.6688 - val_acc: 0.4313\n",
            "Epoch 29/150\n",
            "21105/21105 [==============================] - 8s 362us/sample - loss: 1.7617 - acc: 0.3738 - val_loss: 1.6626 - val_acc: 0.4371\n",
            "Epoch 30/150\n",
            "21105/21105 [==============================] - 8s 386us/sample - loss: 1.7575 - acc: 0.3732 - val_loss: 1.6832 - val_acc: 0.4266\n",
            "Epoch 31/150\n",
            "21105/21105 [==============================] - 8s 388us/sample - loss: 1.7626 - acc: 0.3688 - val_loss: 1.6788 - val_acc: 0.4363\n",
            "Epoch 32/150\n",
            "21105/21105 [==============================] - 8s 397us/sample - loss: 1.7581 - acc: 0.3721 - val_loss: 1.6637 - val_acc: 0.4391\n",
            "Epoch 33/150\n",
            "21105/21105 [==============================] - 9s 409us/sample - loss: 1.7527 - acc: 0.3757 - val_loss: 1.6583 - val_acc: 0.4398\n",
            "Epoch 34/150\n",
            "21105/21105 [==============================] - 8s 402us/sample - loss: 1.7574 - acc: 0.3696 - val_loss: 1.6931 - val_acc: 0.4325\n",
            "Epoch 35/150\n",
            "21105/21105 [==============================] - 9s 416us/sample - loss: 1.7574 - acc: 0.3735 - val_loss: 1.6705 - val_acc: 0.4344\n",
            "Epoch 36/150\n",
            "21105/21105 [==============================] - 8s 380us/sample - loss: 1.7482 - acc: 0.3749 - val_loss: 1.6681 - val_acc: 0.4150\n",
            "Epoch 37/150\n",
            "21105/21105 [==============================] - 8s 396us/sample - loss: 1.7523 - acc: 0.3718 - val_loss: 1.6762 - val_acc: 0.4251\n",
            "Epoch 38/150\n",
            "21105/21105 [==============================] - 9s 413us/sample - loss: 1.7526 - acc: 0.3726 - val_loss: 1.6718 - val_acc: 0.4371\n",
            "Epoch 39/150\n",
            "21105/21105 [==============================] - 8s 365us/sample - loss: 1.7568 - acc: 0.3732 - val_loss: 1.6570 - val_acc: 0.4352\n",
            "Epoch 40/150\n",
            "21105/21105 [==============================] - 7s 350us/sample - loss: 1.7527 - acc: 0.3696 - val_loss: 1.6664 - val_acc: 0.4328\n",
            "Epoch 41/150\n",
            "21105/21105 [==============================] - 9s 416us/sample - loss: 1.7498 - acc: 0.3727 - val_loss: 1.6836 - val_acc: 0.4332\n",
            "Epoch 42/150\n",
            "21105/21105 [==============================] - 8s 375us/sample - loss: 1.7520 - acc: 0.3728 - val_loss: 1.6711 - val_acc: 0.4383\n",
            "Epoch 43/150\n",
            "21105/21105 [==============================] - 8s 391us/sample - loss: 1.7503 - acc: 0.3719 - val_loss: 1.6849 - val_acc: 0.4282\n",
            "Epoch 44/150\n",
            "21105/21105 [==============================] - 8s 376us/sample - loss: 1.7510 - acc: 0.3749 - val_loss: 1.6770 - val_acc: 0.4235\n",
            "Epoch 45/150\n",
            "21105/21105 [==============================] - 8s 371us/sample - loss: 1.7468 - acc: 0.3721 - val_loss: 1.6906 - val_acc: 0.4262\n",
            "Epoch 46/150\n",
            "21105/21105 [==============================] - 8s 377us/sample - loss: 1.7514 - acc: 0.3721 - val_loss: 1.6743 - val_acc: 0.4212\n",
            "Epoch 47/150\n",
            "21105/21105 [==============================] - 8s 378us/sample - loss: 1.7508 - acc: 0.3710 - val_loss: 1.6788 - val_acc: 0.4235\n",
            "Epoch 48/150\n",
            "21105/21105 [==============================] - 8s 391us/sample - loss: 1.7547 - acc: 0.3736 - val_loss: 1.6944 - val_acc: 0.4340\n",
            "Epoch 49/150\n",
            "21105/21105 [==============================] - 8s 376us/sample - loss: 1.7496 - acc: 0.3741 - val_loss: 1.6697 - val_acc: 0.4344\n",
            "Epoch 50/150\n",
            "21105/21105 [==============================] - 7s 351us/sample - loss: 1.7442 - acc: 0.3772 - val_loss: 1.6759 - val_acc: 0.4270\n",
            "Epoch 51/150\n",
            "21105/21105 [==============================] - 8s 362us/sample - loss: 1.7503 - acc: 0.3761 - val_loss: 1.6593 - val_acc: 0.4286\n",
            "Epoch 52/150\n",
            "21105/21105 [==============================] - 8s 359us/sample - loss: 1.7485 - acc: 0.3750 - val_loss: 1.6726 - val_acc: 0.4414\n",
            "Epoch 53/150\n",
            "21105/21105 [==============================] - 8s 363us/sample - loss: 1.7458 - acc: 0.3759 - val_loss: 1.6523 - val_acc: 0.4305\n",
            "Epoch 54/150\n",
            "21105/21105 [==============================] - 7s 345us/sample - loss: 1.7467 - acc: 0.3726 - val_loss: 1.6615 - val_acc: 0.4387\n",
            "Epoch 55/150\n",
            "21105/21105 [==============================] - 8s 357us/sample - loss: 1.7475 - acc: 0.3736 - val_loss: 1.6661 - val_acc: 0.4290\n",
            "Epoch 56/150\n",
            "18208/21105 [========================>.....] - ETA: 0s - loss: 1.7526 - acc: 0.3747"
          ],
          "name": "stdout"
        }
      ]
    },
    {
      "metadata": {
        "trusted": true,
        "_uuid": "5810cdd64378592013e6ec177ea8d2082270da12",
        "id": "sZb1PCGPO97t",
        "colab_type": "code",
        "colab": {}
      },
      "cell_type": "code",
      "source": [
        "# # Applying CNN with 4 hidden layers, out of which 1 is a CNN layer and 3 are dense layers (deep learning)\n",
        "# model = Sequential()\n",
        "# model.add(Conv2D(64, kernel_size=(2, 2), activation='relu', input_shape=(8, 5, 1)))\n",
        "# model.add(MaxPooling2D(pool_size=(2, 2)))\n",
        "# model.add(Dropout(0.25))\n",
        "\n",
        "# model.add(Conv2D(32, (2, 2), padding=\"same\", activation=\"relu\", input_shape=(8, 5, 1)))\n",
        "# model.add(MaxPooling2D(pool_size=(2, 2)))\n",
        "# model.add(Dropout(0.25))\n",
        "# model.add(Flatten())\n",
        "\n",
        "# model.add(Dense(32, activation='relu'))\n",
        "# model.add(Dropout(0.25))\n",
        "          \n",
        "# model.add(Dense(32, activation='relu'))\n",
        "# model.add(Dropout(0.25))\n",
        "          \n",
        "# model.add(Dense(32, activation='relu'))\n",
        "# model.add(Dropout(0.25))\n",
        "\n",
        "# model.add(Dense(y_train.shape[1], activation = 'softmax'))\n",
        "\n",
        "# model.compile(optimizer = 'adam', loss = 'categorical_crossentropy', metrics = ['accuracy'])\n",
        "\n",
        "# model.summary()\n",
        "\n",
        "# # Fitting the model \n",
        "# %%time\n",
        "# model.fit(X_train.reshape(X_train.shape[0], 8, 5, 1), y_train, batch_size = 32, epochs = 50, validation_data = [X_val.reshape(X_val.shape[0], 8, 5, 1), y_val], verbose = 1)"
      ],
      "execution_count": 0,
      "outputs": []
    },
    {
      "metadata": {
        "trusted": true,
        "_uuid": "643565974c4058d9a6ef3863873b880e76d45212",
        "id": "E17z6QLFO97_",
        "colab_type": "code",
        "colab": {}
      },
      "cell_type": "code",
      "source": [
        "model.save_weights('tfsr.h5')"
      ],
      "execution_count": 0,
      "outputs": []
    },
    {
      "metadata": {
        "id": "Xs1-HT34MrOf",
        "colab_type": "code",
        "colab": {}
      },
      "cell_type": "code",
      "source": [
        "model.load_weights('tfsr.h5')"
      ],
      "execution_count": 0,
      "outputs": []
    },
    {
      "metadata": {
        "id": "otS5ggZ1MxqE",
        "colab_type": "code",
        "outputId": "507faa9e-43f5-4eb1-fb71-422808513849",
        "colab": {
          "base_uri": "https://localhost:8080/",
          "height": 204
        }
      },
      "cell_type": "code",
      "source": [
        "test_df = pd.read_csv('test_df.csv', converters = {'features' : converter, 'data' : converter})\n",
        "test_df.head()"
      ],
      "execution_count": 0,
      "outputs": [
        {
          "output_type": "execute_result",
          "data": {
            "text/html": [
              "<div>\n",
              "<style scoped>\n",
              "    .dataframe tbody tr th:only-of-type {\n",
              "        vertical-align: middle;\n",
              "    }\n",
              "\n",
              "    .dataframe tbody tr th {\n",
              "        vertical-align: top;\n",
              "    }\n",
              "\n",
              "    .dataframe thead th {\n",
              "        text-align: right;\n",
              "    }\n",
              "</style>\n",
              "<table border=\"1\" class=\"dataframe\">\n",
              "  <thead>\n",
              "    <tr style=\"text-align: right;\">\n",
              "      <th></th>\n",
              "      <th>names</th>\n",
              "      <th>data</th>\n",
              "      <th>sampling_rate</th>\n",
              "      <th>features</th>\n",
              "    </tr>\n",
              "  </thead>\n",
              "  <tbody>\n",
              "    <tr>\n",
              "      <th>0</th>\n",
              "      <td>clip_000044442.wav</td>\n",
              "      <td>[0.00213205, 0.00348907, 0.00481788]</td>\n",
              "      <td>22050</td>\n",
              "      <td>[-343.180481, 108.435396, -8.90255396, 47.3082...</td>\n",
              "    </tr>\n",
              "    <tr>\n",
              "      <th>1</th>\n",
              "      <td>clip_0000adecb.wav</td>\n",
              "      <td>[-0.00020656, 0.00100615, 0.0023665]</td>\n",
              "      <td>22050</td>\n",
              "      <td>[-537.140085, 85.9404343, -17.808872, 34.89341...</td>\n",
              "    </tr>\n",
              "    <tr>\n",
              "      <th>2</th>\n",
              "      <td>clip_0000d4322.wav</td>\n",
              "      <td>[-5.3789678e-05, -3.9656203e-05, 5.913086e-05]</td>\n",
              "      <td>22050</td>\n",
              "      <td>[-416.513579, 141.730557, 3.42186958, 22.13704...</td>\n",
              "    </tr>\n",
              "    <tr>\n",
              "      <th>3</th>\n",
              "      <td>clip_0000fb6fe.wav</td>\n",
              "      <td>[0.00039818, 0.00134888, 0.00260451]</td>\n",
              "      <td>22050</td>\n",
              "      <td>[-445.238752, 139.523346, -66.4656067, 68.1054...</td>\n",
              "    </tr>\n",
              "    <tr>\n",
              "      <th>4</th>\n",
              "      <td>clip_0001d1559.wav</td>\n",
              "      <td>[-0.00214653, -0.00286958, -0.00289717]</td>\n",
              "      <td>22050</td>\n",
              "      <td>[-372.486641, 69.4742626, -18.3678007, 38.2457...</td>\n",
              "    </tr>\n",
              "  </tbody>\n",
              "</table>\n",
              "</div>"
            ],
            "text/plain": [
              "                names                                            data  \\\n",
              "0  clip_000044442.wav            [0.00213205, 0.00348907, 0.00481788]   \n",
              "1  clip_0000adecb.wav            [-0.00020656, 0.00100615, 0.0023665]   \n",
              "2  clip_0000d4322.wav  [-5.3789678e-05, -3.9656203e-05, 5.913086e-05]   \n",
              "3  clip_0000fb6fe.wav            [0.00039818, 0.00134888, 0.00260451]   \n",
              "4  clip_0001d1559.wav         [-0.00214653, -0.00286958, -0.00289717]   \n",
              "\n",
              "   sampling_rate                                           features  \n",
              "0          22050  [-343.180481, 108.435396, -8.90255396, 47.3082...  \n",
              "1          22050  [-537.140085, 85.9404343, -17.808872, 34.89341...  \n",
              "2          22050  [-416.513579, 141.730557, 3.42186958, 22.13704...  \n",
              "3          22050  [-445.238752, 139.523346, -66.4656067, 68.1054...  \n",
              "4          22050  [-372.486641, 69.4742626, -18.3678007, 38.2457...  "
            ]
          },
          "metadata": {
            "tags": []
          },
          "execution_count": 43
        }
      ]
    },
    {
      "metadata": {
        "id": "jrZAKRn0M8v-",
        "colab_type": "code",
        "colab": {}
      },
      "cell_type": "code",
      "source": [
        "X_test = np.array(test_df.features.tolist())"
      ],
      "execution_count": 0,
      "outputs": []
    },
    {
      "metadata": {
        "id": "G010kLLHNbXC",
        "colab_type": "code",
        "outputId": "026b238f-d9b3-49e4-8e6a-dde803f754dd",
        "colab": {
          "base_uri": "https://localhost:8080/",
          "height": 34
        }
      },
      "cell_type": "code",
      "source": [
        "X_test.shape"
      ],
      "execution_count": 0,
      "outputs": [
        {
          "output_type": "execute_result",
          "data": {
            "text/plain": [
              "(158538, 40)"
            ]
          },
          "metadata": {
            "tags": []
          },
          "execution_count": 46
        }
      ]
    },
    {
      "metadata": {
        "id": "BGFsi2xYNgDY",
        "colab_type": "code",
        "colab": {}
      },
      "cell_type": "code",
      "source": [
        "pred = model.predict(X_test.reshape(X_test.shape[0], 8, 5, 1))"
      ],
      "execution_count": 0,
      "outputs": []
    },
    {
      "metadata": {
        "id": "NO3cQAQ7N_X5",
        "colab_type": "code",
        "colab": {}
      },
      "cell_type": "code",
      "source": [
        "y_pred = pd.Series(list(pred)).map(lambda x: np.argmax(x)).map(lambda x: lb.inverse_transform([x]))"
      ],
      "execution_count": 0,
      "outputs": []
    },
    {
      "metadata": {
        "id": "G-H6NrojOr-x",
        "colab_type": "code",
        "outputId": "721ed260-70e2-40d7-ec0c-46255ec8f19b",
        "colab": {
          "base_uri": "https://localhost:8080/",
          "height": 204
        }
      },
      "cell_type": "code",
      "source": [
        "my_results = pd.DataFrame([test_df.names, y_pred.str.get(0)]).T\n",
        "my_results.columns = ['fname', 'label']\n",
        "my_results.head()"
      ],
      "execution_count": 0,
      "outputs": [
        {
          "output_type": "execute_result",
          "data": {
            "text/html": [
              "<div>\n",
              "<style scoped>\n",
              "    .dataframe tbody tr th:only-of-type {\n",
              "        vertical-align: middle;\n",
              "    }\n",
              "\n",
              "    .dataframe tbody tr th {\n",
              "        vertical-align: top;\n",
              "    }\n",
              "\n",
              "    .dataframe thead th {\n",
              "        text-align: right;\n",
              "    }\n",
              "</style>\n",
              "<table border=\"1\" class=\"dataframe\">\n",
              "  <thead>\n",
              "    <tr style=\"text-align: right;\">\n",
              "      <th></th>\n",
              "      <th>fname</th>\n",
              "      <th>label</th>\n",
              "    </tr>\n",
              "  </thead>\n",
              "  <tbody>\n",
              "    <tr>\n",
              "      <th>0</th>\n",
              "      <td>clip_000044442.wav</td>\n",
              "      <td>right</td>\n",
              "    </tr>\n",
              "    <tr>\n",
              "      <th>1</th>\n",
              "      <td>clip_0000adecb.wav</td>\n",
              "      <td>down</td>\n",
              "    </tr>\n",
              "    <tr>\n",
              "      <th>2</th>\n",
              "      <td>clip_0000d4322.wav</td>\n",
              "      <td>on</td>\n",
              "    </tr>\n",
              "    <tr>\n",
              "      <th>3</th>\n",
              "      <td>clip_0000fb6fe.wav</td>\n",
              "      <td>right</td>\n",
              "    </tr>\n",
              "    <tr>\n",
              "      <th>4</th>\n",
              "      <td>clip_0001d1559.wav</td>\n",
              "      <td>yes</td>\n",
              "    </tr>\n",
              "  </tbody>\n",
              "</table>\n",
              "</div>"
            ],
            "text/plain": [
              "                fname  label\n",
              "0  clip_000044442.wav  right\n",
              "1  clip_0000adecb.wav   down\n",
              "2  clip_0000d4322.wav     on\n",
              "3  clip_0000fb6fe.wav  right\n",
              "4  clip_0001d1559.wav    yes"
            ]
          },
          "metadata": {
            "tags": []
          },
          "execution_count": 118
        }
      ]
    },
    {
      "metadata": {
        "id": "3wNd-RWqT5Vn",
        "colab_type": "code",
        "colab": {}
      },
      "cell_type": "code",
      "source": [
        "my_results.to_csv('sample_submission.csv')"
      ],
      "execution_count": 0,
      "outputs": []
    },
    {
      "metadata": {
        "id": "5sSXOkwsUFkn",
        "colab_type": "code",
        "colab": {}
      },
      "cell_type": "code",
      "source": [
        ""
      ],
      "execution_count": 0,
      "outputs": []
    }
  ]
}