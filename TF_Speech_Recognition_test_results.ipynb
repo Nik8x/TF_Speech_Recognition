{
  "nbformat": 4,
  "nbformat_minor": 0,
  "metadata": {
    "colab": {
      "name": "TF_Speech_Recognition.ipynb",
      "version": "0.3.2",
      "provenance": [],
      "collapsed_sections": [],
      "include_colab_link": true
    },
    "kernelspec": {
      "name": "python3",
      "display_name": "Python 3"
    },
    "accelerator": "TPU"
  },
  "cells": [
    {
      "cell_type": "markdown",
      "metadata": {
        "id": "view-in-github",
        "colab_type": "text"
      },
      "source": [
        "<a href=\"https://colab.research.google.com/github/Nik8x/TF_Speech_Recognition/blob/master/TF_Speech_Recognition_test_results.ipynb\" target=\"_parent\"><img src=\"https://colab.research.google.com/assets/colab-badge.svg\" alt=\"Open In Colab\"/></a>"
      ]
    },
    {
      "metadata": {
        "_uuid": "380c22d03aa32cb02563babaf256ee0468de8476",
        "trusted": true,
        "id": "hCf32NrxO95G",
        "colab_type": "code",
        "outputId": "c50d711a-a83f-430c-ef61-e37b148da6ab",
        "colab": {
          "base_uri": "https://localhost:8080/",
          "height": 50
        }
      },
      "cell_type": "code",
      "source": [
        "import glob\n",
        "import os\n",
        "import pandas as pd\n",
        "import numpy as np\n",
        "import librosa\n",
        "import librosa.display\n",
        "import matplotlib.pyplot as plt\n",
        "%matplotlib inline\n",
        "import IPython\n",
        "\n",
        "import tensorflow as tf\n",
        "from keras.models import Sequential\n",
        "from keras.layers import Dense, Dropout, Activation, Flatten, Convolution2D, MaxPooling2D, Conv2D\n",
        "from keras.optimizers import Adam\n",
        "from keras.utils import np_utils\n",
        "from sklearn import metrics\n",
        "from sklearn.preprocessing import LabelEncoder\n",
        "\n",
        "import os\n",
        "\n",
        "# Any results you write to the current directory are saved as output.\n",
        "from google.colab import drive\n",
        "drive.mount('/content/gdrive')"
      ],
      "execution_count": 1,
      "outputs": [
        {
          "output_type": "stream",
          "text": [
            "Drive already mounted at /content/gdrive; to attempt to forcibly remount, call drive.mount(\"/content/gdrive\", force_remount=True).\n"
          ],
          "name": "stdout"
        },
        {
          "output_type": "stream",
          "text": [
            "Using TensorFlow backend.\n"
          ],
          "name": "stderr"
        }
      ]
    },
    {
      "metadata": {
        "id": "18D9PnqxZTpV",
        "colab_type": "code",
        "outputId": "f5aac22e-7b24-4e81-da21-d578a4ca80b6",
        "colab": {
          "base_uri": "https://localhost:8080/",
          "height": 50
        }
      },
      "cell_type": "code",
      "source": [
        "print(\"The current directory is: \", os.getcwd())\n",
        "import os\n",
        "os.chdir(\"/content/gdrive/My Drive/Colab Notebooks/files\")\n",
        "print(\"The current directory is: \", os.getcwd())"
      ],
      "execution_count": 2,
      "outputs": [
        {
          "output_type": "stream",
          "text": [
            "The current directory is:  /content\n",
            "The current directory is:  /content/gdrive/My Drive/Colab Notebooks/files\n"
          ],
          "name": "stdout"
        }
      ]
    },
    {
      "metadata": {
        "id": "2Un4LDyZZYrZ",
        "colab_type": "code",
        "outputId": "3b18fc3d-6164-4fd9-8769-08c29d700a1e",
        "colab": {
          "base_uri": "https://localhost:8080/",
          "height": 151
        }
      },
      "cell_type": "code",
      "source": [
        "os.listdir()"
      ],
      "execution_count": 3,
      "outputs": [
        {
          "output_type": "execute_result",
          "data": {
            "text/plain": [
              "['SwannsWay.txt',\n",
              " 'test_list.txt',\n",
              " 'val_list.txt',\n",
              " 'Titanic.json',\n",
              " 'titanic.csv',\n",
              " 'Titanic.py',\n",
              " 'test_df.csv',\n",
              " 'dfff.csv']"
            ]
          },
          "metadata": {
            "tags": []
          },
          "execution_count": 3
        }
      ]
    },
    {
      "metadata": {
        "id": "fdJ2NCnqRr41",
        "colab_type": "code",
        "colab": {}
      },
      "cell_type": "code",
      "source": [
        "#!sudo apt install p7zip"
      ],
      "execution_count": 0,
      "outputs": []
    },
    {
      "metadata": {
        "colab_type": "code",
        "id": "k9661RxBJaQz",
        "colab": {}
      },
      "cell_type": "code",
      "source": [
        "#!p7zip -d test.7z"
      ],
      "execution_count": 0,
      "outputs": []
    },
    {
      "metadata": {
        "id": "l8h8Nua1QyKj",
        "colab_type": "code",
        "colab": {}
      },
      "cell_type": "code",
      "source": [
        "# # let's unzip test.7z \n",
        "# from zipfile import ZipFile\n",
        "# zf = ZipFile('test.7z', 'r')\n",
        "# zf.extractall('.')\n",
        "# zf.close()"
      ],
      "execution_count": 0,
      "outputs": []
    },
    {
      "metadata": {
        "_uuid": "e645022200c4b813a18bc272552b8507e28dea95",
        "trusted": true,
        "id": "yGdzD19JO95M",
        "colab_type": "code",
        "colab": {}
      },
      "cell_type": "code",
      "source": [
        "# for use in Kaggle as the audio files are not saved in Colabs - Loading the files, let's see total audio files for each label\n",
        "# label = []\n",
        "# counts = []\n",
        "# for i in os.listdir('../input/train/audio/'):\n",
        "#     label.append(i)\n",
        "#     counts.append(len(os.listdir('../input/train/audio/' + i)))\n",
        "    \n",
        "# df = pd.DataFrame([label, counts]).T.set_index([0])\n",
        "# df"
      ],
      "execution_count": 0,
      "outputs": []
    },
    {
      "metadata": {
        "_uuid": "bf807e977b790d3a633bef1762504ea82235fce0",
        "trusted": true,
        "id": "n-5QUbVGO95U",
        "colab_type": "code",
        "colab": {}
      },
      "cell_type": "code",
      "source": [
        "# # Total number of audio files\n",
        "# np.sum(df[1])"
      ],
      "execution_count": 0,
      "outputs": []
    },
    {
      "metadata": {
        "_uuid": "c6b44e4bbe45145797a05c2416cdce1416edd4ef",
        "trusted": true,
        "id": "a1djgdDyO95a",
        "colab_type": "code",
        "colab": {}
      },
      "cell_type": "code",
      "source": [
        "# os.listdir('../input/')"
      ],
      "execution_count": 0,
      "outputs": []
    },
    {
      "metadata": {
        "_uuid": "17f6e6f0a4bbda1960325d3720e433dcb28a4a40",
        "trusted": true,
        "id": "8Si439CrO95g",
        "colab_type": "code",
        "colab": {}
      },
      "cell_type": "code",
      "source": [
        "# Saving files from test and validation list\n",
        "# test_list = open('../input/train/testing_list.txt').read().split('\\n')\n",
        "# val_list = open('../input/train/validation_list.txt').read().split('\\n')"
      ],
      "execution_count": 0,
      "outputs": []
    },
    {
      "metadata": {
        "trusted": true,
        "_uuid": "2b8a0cf0229f6ae0bc51c45438e53b794aae443e",
        "id": "Ld5dpvqcO95n",
        "colab_type": "code",
        "colab": {}
      },
      "cell_type": "code",
      "source": [
        "# # let us save the above list in our directory, so we can load it afterwards.  This will be easier for us to avoid opening the aduio files\n",
        "# with open(\"test_list.txt\", \"w\") as output:\n",
        "#     output.write(str(test_list))\n",
        "    \n",
        "# with open(\"val_list.txt\", \"w\") as output:\n",
        "#     output.write(str(val_list))"
      ],
      "execution_count": 0,
      "outputs": []
    },
    {
      "metadata": {
        "_uuid": "649c8f92bae04eb7cf9a855233719be2c896fbea",
        "trusted": true,
        "id": "ixCB6ThWO95u",
        "colab_type": "code",
        "colab": {}
      },
      "cell_type": "code",
      "source": [
        "# Checking the lenght of the list\n",
        "# len(test_list), len(val_list)"
      ],
      "execution_count": 0,
      "outputs": []
    },
    {
      "metadata": {
        "_uuid": "ddd8acc2801732d222b9d126f31f076c199c018a",
        "trusted": true,
        "id": "bNrZUKG5O951",
        "colab_type": "code",
        "colab": {}
      },
      "cell_type": "code",
      "source": [
        "#Playint on audio file\n",
        "# IPython.display.Audio('../input/train/audio/right/bf8d5617_nohash_0.wav')"
      ],
      "execution_count": 0,
      "outputs": []
    },
    {
      "metadata": {
        "_uuid": "9742e2eb4208cde9680b3b7d43a4c82769f07b07",
        "trusted": true,
        "id": "zVkME3pIO958",
        "colab_type": "code",
        "colab": {}
      },
      "cell_type": "code",
      "source": [
        "#Labels that Kaggle has asked us to use for the competition\n",
        "# labels_in_test = ['yes', 'no', 'up', 'down', 'left', 'right', 'on', 'off', 'stop', 'go']\n",
        "# df = df.loc[labels_in_test]\n",
        "# df"
      ],
      "execution_count": 0,
      "outputs": []
    },
    {
      "metadata": {
        "_uuid": "54a99c0fbb4c4d220f1fc4bad08a609361e1ac4e",
        "trusted": true,
        "id": "oyFWHIyKO96C",
        "colab_type": "code",
        "colab": {}
      },
      "cell_type": "code",
      "source": [
        "# Total number of files in the labels_in_test\n",
        "# np.sum(df[1])"
      ],
      "execution_count": 0,
      "outputs": []
    },
    {
      "metadata": {
        "_uuid": "d019ef32660db13b6c5e1e09926aae5f801b8cd0",
        "trusted": true,
        "id": "JTh6Us5tO96I",
        "colab_type": "code",
        "colab": {}
      },
      "cell_type": "code",
      "source": [
        "# Loading the audio file as an array using the librosa's mfcc - we do this since our keras model only understands arrays(or numbers) and we\n",
        "# cannot feed the audio file directly.\n",
        "# %%time\n",
        "\n",
        "# def namestr(obj, namespace):\n",
        "#     return [name for name in namespace if namespace[name] is obj]\n",
        "\n",
        "# def extract_data(folder):\n",
        "#     dff = pd.DataFrame()\n",
        "#     names = []\n",
        "#     features = []\n",
        "#     data = []\n",
        "#     sampling_rate = []\n",
        "    \n",
        "#     for name in os.listdir('../input/train/audio/' + folder):\n",
        "#         data1, sampling_rate1 = librosa.load('../input/train/audio/' + folder + '/' + name, res_type = 'kaiser_fast')\n",
        "#         mfccs = np.mean(librosa.feature.mfcc(y = data1, sr = sampling_rate1, n_mfcc = 40).T, axis = 0)\n",
        "        \n",
        "#         data.append(data1)\n",
        "#         sampling_rate.append(sampling_rate1)\n",
        "#         features.append(mfccs)\n",
        "#         names.append(name)\n",
        "        \n",
        "#     return [names, data, sampling_rate, features]\n",
        "\n",
        "# train_new = pd.Series(labels_in_test).apply(extract_data)\n",
        "# train_new.columns = ['names', 'data', 'sampling_rate', 'features']"
      ],
      "execution_count": 0,
      "outputs": []
    },
    {
      "metadata": {
        "_uuid": "f4f26aca48684127ca0a951bde7b2c0c9a6fd36d",
        "trusted": true,
        "id": "9I-ND4_rO96O",
        "colab_type": "code",
        "colab": {}
      },
      "cell_type": "code",
      "source": [
        "# Connecting all the lists into one DataFrame\n",
        "# dfff = pd.DataFrame()\n",
        "# dfff['names'] = train_new[0][0] + train_new[1][0] + train_new[2][0] + train_new[3][0] + train_new[4][0] + train_new[5][0] + train_new[6][0] + train_new[7][0] + train_new[8][0] + train_new[9][0]\n",
        "# dfff['data'] = train_new[0][1] + train_new[1][1] + train_new[2][1] + train_new[3][1] + train_new[4][1] + train_new[5][1] + train_new[6][1] + train_new[7][1] + train_new[8][1] + train_new[9][1]\n",
        "# dfff['sampling_rate'] = train_new[0][2] + train_new[1][2] + train_new[2][2] + train_new[3][2] + train_new[4][2] + train_new[5][2] + train_new[6][2] + train_new[7][2] + train_new[8][2] + train_new[9][2]\n",
        "# dfff['features'] = train_new[0][3] + train_new[1][3] + train_new[2][3] + train_new[3][3] + train_new[4][3] + train_new[5][3] + train_new[6][3] + train_new[7][3] + train_new[8][3] + train_new[9][3]"
      ],
      "execution_count": 0,
      "outputs": []
    },
    {
      "metadata": {
        "_uuid": "6482c8953f8e6c67492d78c32aa9404bd7b8a133",
        "trusted": true,
        "id": "40swg_SPO96U",
        "colab_type": "code",
        "colab": {}
      },
      "cell_type": "code",
      "source": [
        "# Making a new list for the label column\n",
        "# label_all = []\n",
        "# for index in labels_in_test:\n",
        "#     label_all.append([index] * df.loc[index][1])"
      ],
      "execution_count": 0,
      "outputs": []
    },
    {
      "metadata": {
        "_uuid": "58bb17a274a7a87d865f99f9b90eb11777290d21",
        "trusted": true,
        "id": "QSn3ellCO96Y",
        "colab_type": "code",
        "colab": {}
      },
      "cell_type": "code",
      "source": [
        "# new list for the label column is now being put into the DataFrame\n",
        "# dfff['label'] = [item for sublist in label_all for item in sublist]"
      ],
      "execution_count": 0,
      "outputs": []
    },
    {
      "metadata": {
        "_uuid": "9a8aaf8363ef9d1f2f6e37084b18e50be328cb72",
        "trusted": true,
        "scrolled": true,
        "id": "C3VIhWnBO96f",
        "colab_type": "code",
        "colab": {}
      },
      "cell_type": "code",
      "source": [
        "# print(dfff.shape)\n",
        "# dfff.head()"
      ],
      "execution_count": 0,
      "outputs": []
    },
    {
      "metadata": {
        "_uuid": "a0a3571f945ddd758337d064520ceaf95e2b74f9",
        "trusted": true,
        "id": "cQhUOZoqO96n",
        "colab_type": "code",
        "colab": {}
      },
      "cell_type": "code",
      "source": [
        "# Saving the DataFrame as a csv file to avoid using the audio files going forward\n",
        "# dfff.to_csv(\"dfff.csv\", index = False, sep = ',')"
      ],
      "execution_count": 0,
      "outputs": []
    },
    {
      "metadata": {
        "id": "GAPxovNN0k35",
        "colab_type": "code",
        "colab": {}
      },
      "cell_type": "code",
      "source": [
        "# Converting the string of arrays to a proper array\n",
        "def converter(instr):\n",
        "    return np.fromstring(instr[1:-1],sep=' ')"
      ],
      "execution_count": 0,
      "outputs": []
    },
    {
      "metadata": {
        "id": "7rkSESKYPS3O",
        "colab_type": "code",
        "colab": {}
      },
      "cell_type": "code",
      "source": [
        "dfff = pd.read_csv(\"dfff.csv\", converters = {'features' : converter})"
      ],
      "execution_count": 0,
      "outputs": []
    },
    {
      "metadata": {
        "id": "T_82n51DmVtT",
        "colab_type": "code",
        "outputId": "2ea0f12e-2745-4bc4-905e-fb898b1923c3",
        "colab": {
          "base_uri": "https://localhost:8080/",
          "height": 195
        }
      },
      "cell_type": "code",
      "source": [
        "dfff.head()"
      ],
      "execution_count": 24,
      "outputs": [
        {
          "output_type": "execute_result",
          "data": {
            "text/html": [
              "<div>\n",
              "<style scoped>\n",
              "    .dataframe tbody tr th:only-of-type {\n",
              "        vertical-align: middle;\n",
              "    }\n",
              "\n",
              "    .dataframe tbody tr th {\n",
              "        vertical-align: top;\n",
              "    }\n",
              "\n",
              "    .dataframe thead th {\n",
              "        text-align: right;\n",
              "    }\n",
              "</style>\n",
              "<table border=\"1\" class=\"dataframe\">\n",
              "  <thead>\n",
              "    <tr style=\"text-align: right;\">\n",
              "      <th></th>\n",
              "      <th>names</th>\n",
              "      <th>data</th>\n",
              "      <th>sampling_rate</th>\n",
              "      <th>features</th>\n",
              "      <th>label</th>\n",
              "    </tr>\n",
              "  </thead>\n",
              "  <tbody>\n",
              "    <tr>\n",
              "      <th>0</th>\n",
              "      <td>5fe4a278_nohash_1.wav</td>\n",
              "      <td>[ 0.00037958  0.00077009  0.0009782  ... -0.00...</td>\n",
              "      <td>22050</td>\n",
              "      <td>[-360.960392, 95.2412528, -45.965287, 61.02619...</td>\n",
              "      <td>yes</td>\n",
              "    </tr>\n",
              "    <tr>\n",
              "      <th>1</th>\n",
              "      <td>4def68db_nohash_1.wav</td>\n",
              "      <td>[ 0.02703226  0.03436777  0.03274808 ...  0.02...</td>\n",
              "      <td>22050</td>\n",
              "      <td>[-350.560308, 95.8547696, -18.2142555, 43.4533...</td>\n",
              "      <td>yes</td>\n",
              "    </tr>\n",
              "    <tr>\n",
              "      <th>2</th>\n",
              "      <td>3d53244b_nohash_3.wav</td>\n",
              "      <td>[-2.82844539e-05 -7.66743615e-05 -1.15902534e-...</td>\n",
              "      <td>22050</td>\n",
              "      <td>[-452.935767, 48.5914362, -8.35673584, 39.4135...</td>\n",
              "      <td>yes</td>\n",
              "    </tr>\n",
              "    <tr>\n",
              "      <th>3</th>\n",
              "      <td>62ef962d_nohash_1.wav</td>\n",
              "      <td>[-0.00229988 -0.02375472 -0.00151815 ...  0.02...</td>\n",
              "      <td>22050</td>\n",
              "      <td>[-304.877085, 60.8177152, -32.5946494, 18.1406...</td>\n",
              "      <td>yes</td>\n",
              "    </tr>\n",
              "    <tr>\n",
              "      <th>4</th>\n",
              "      <td>264f471d_nohash_3.wav</td>\n",
              "      <td>[ 0.00603409  0.01116164  0.01496761 ... -0.01...</td>\n",
              "      <td>22050</td>\n",
              "      <td>[-305.40941638, 100.41015856, -2.31436065, 58....</td>\n",
              "      <td>yes</td>\n",
              "    </tr>\n",
              "  </tbody>\n",
              "</table>\n",
              "</div>"
            ],
            "text/plain": [
              "                   names                                               data  \\\n",
              "0  5fe4a278_nohash_1.wav  [ 0.00037958  0.00077009  0.0009782  ... -0.00...   \n",
              "1  4def68db_nohash_1.wav  [ 0.02703226  0.03436777  0.03274808 ...  0.02...   \n",
              "2  3d53244b_nohash_3.wav  [-2.82844539e-05 -7.66743615e-05 -1.15902534e-...   \n",
              "3  62ef962d_nohash_1.wav  [-0.00229988 -0.02375472 -0.00151815 ...  0.02...   \n",
              "4  264f471d_nohash_3.wav  [ 0.00603409  0.01116164  0.01496761 ... -0.01...   \n",
              "\n",
              "   sampling_rate                                           features label  \n",
              "0          22050  [-360.960392, 95.2412528, -45.965287, 61.02619...   yes  \n",
              "1          22050  [-350.560308, 95.8547696, -18.2142555, 43.4533...   yes  \n",
              "2          22050  [-452.935767, 48.5914362, -8.35673584, 39.4135...   yes  \n",
              "3          22050  [-304.877085, 60.8177152, -32.5946494, 18.1406...   yes  \n",
              "4          22050  [-305.40941638, 100.41015856, -2.31436065, 58....   yes  "
            ]
          },
          "metadata": {
            "tags": []
          },
          "execution_count": 24
        }
      ]
    },
    {
      "metadata": {
        "trusted": true,
        "_uuid": "cd862f1d911938130919ed7b86284993b523cb53",
        "id": "h2QfNtckO96r",
        "colab_type": "code",
        "colab": {}
      },
      "cell_type": "code",
      "source": [
        "# Loading the test and validation list\n",
        "import ast\n",
        "with open(\"test_list.txt\", \"r\") as f:\n",
        "    test_list = ast.literal_eval(f.read())\n",
        "    \n",
        "with open(\"val_list.txt\", \"r\") as f:\n",
        "    val_list = ast.literal_eval(f.read())"
      ],
      "execution_count": 0,
      "outputs": []
    },
    {
      "metadata": {
        "_uuid": "ab2d5154f3f90b0e9a47c438e23901a49656441d",
        "trusted": true,
        "id": "s5mMuqAjO96x",
        "colab_type": "code",
        "outputId": "c68de34c-f8c9-47c5-ae4e-f283ebb8e56e",
        "colab": {
          "base_uri": "https://localhost:8080/",
          "height": 34
        }
      },
      "cell_type": "code",
      "source": [
        "# Extracting the names of the files which Kaggle has asked us to validate upon\n",
        "val_list_all = pd.Series(val_list[:-1]).apply(lambda x: x.split('/')[1])\n",
        "test_list_all = pd.Series(test_list[:-1]).apply(lambda x: x.split('/')[1])\n",
        "len(val_list_all), len(test_list_all)"
      ],
      "execution_count": 26,
      "outputs": [
        {
          "output_type": "execute_result",
          "data": {
            "text/plain": [
              "(6798, 6835)"
            ]
          },
          "metadata": {
            "tags": []
          },
          "execution_count": 26
        }
      ]
    },
    {
      "metadata": {
        "_uuid": "c0c76abe591a71499c273d280f30357fde22935a",
        "trusted": true,
        "id": "LV1E4YGqO964",
        "colab_type": "code",
        "outputId": "290b3cc6-4142-4081-e09d-a94834ae8895",
        "colab": {
          "base_uri": "https://localhost:8080/",
          "height": 50
        }
      },
      "cell_type": "code",
      "source": [
        "# Making a DataFrame from the val_list\n",
        "val = dfff[dfff.names.isin(val_list_all)]\n",
        "val = val.iloc[np.random.permutation(len(val))]  # Shuffle DataFrame rows\n",
        "print(val.shape)\n",
        "\n",
        "train = dfff[~dfff.names.isin(val_list_all)]\n",
        "train = train.iloc[np.random.permutation(len(train))] # Shuffle DataFrame rows\n",
        "print(train.shape)"
      ],
      "execution_count": 27,
      "outputs": [
        {
          "output_type": "stream",
          "text": [
            "(2577, 5)\n",
            "(21105, 5)\n"
          ],
          "name": "stdout"
        }
      ]
    },
    {
      "metadata": {
        "_uuid": "20842150222b8b12c06075cc9f0ee75344e4e88d",
        "trusted": true,
        "id": "opYVZrQ4O96-",
        "colab_type": "code",
        "outputId": "601381cb-4fd4-4354-c402-592dd4cd29a4",
        "colab": {
          "base_uri": "https://localhost:8080/",
          "height": 195
        }
      },
      "cell_type": "code",
      "source": [
        "train.head()"
      ],
      "execution_count": 28,
      "outputs": [
        {
          "output_type": "execute_result",
          "data": {
            "text/html": [
              "<div>\n",
              "<style scoped>\n",
              "    .dataframe tbody tr th:only-of-type {\n",
              "        vertical-align: middle;\n",
              "    }\n",
              "\n",
              "    .dataframe tbody tr th {\n",
              "        vertical-align: top;\n",
              "    }\n",
              "\n",
              "    .dataframe thead th {\n",
              "        text-align: right;\n",
              "    }\n",
              "</style>\n",
              "<table border=\"1\" class=\"dataframe\">\n",
              "  <thead>\n",
              "    <tr style=\"text-align: right;\">\n",
              "      <th></th>\n",
              "      <th>names</th>\n",
              "      <th>data</th>\n",
              "      <th>sampling_rate</th>\n",
              "      <th>features</th>\n",
              "      <th>label</th>\n",
              "    </tr>\n",
              "  </thead>\n",
              "  <tbody>\n",
              "    <tr>\n",
              "      <th>6338</th>\n",
              "      <td>324210dd_nohash_1.wav</td>\n",
              "      <td>[-0.02537217 -0.04132456 -0.03773856 ...  0.04...</td>\n",
              "      <td>22050</td>\n",
              "      <td>[-244.354486, 115.958463, -15.4770397, 48.6639...</td>\n",
              "      <td>up</td>\n",
              "    </tr>\n",
              "    <tr>\n",
              "      <th>3617</th>\n",
              "      <td>2bdbe5f7_nohash_4.wav</td>\n",
              "      <td>[ 0.00039686  0.00079437  0.0004817  ... -0.00...</td>\n",
              "      <td>22050</td>\n",
              "      <td>[-391.813558, 96.9535592, 15.9663749, 21.37131...</td>\n",
              "      <td>no</td>\n",
              "    </tr>\n",
              "    <tr>\n",
              "      <th>7453</th>\n",
              "      <td>5c8af87a_nohash_3.wav</td>\n",
              "      <td>[ 3.0797957e-05  5.4504853e-05  6.4067368e-05 ...</td>\n",
              "      <td>22050</td>\n",
              "      <td>[-588.335785, 111.744857, -12.3134355, 17.9093...</td>\n",
              "      <td>down</td>\n",
              "    </tr>\n",
              "    <tr>\n",
              "      <th>15404</th>\n",
              "      <td>37dca74f_nohash_2.wav</td>\n",
              "      <td>[-5.5190336e-05 -2.2956036e-04 -4.0030215e-04 ...</td>\n",
              "      <td>22050</td>\n",
              "      <td>[-559.501094, 62.5171016, -18.847625, 38.84352...</td>\n",
              "      <td>on</td>\n",
              "    </tr>\n",
              "    <tr>\n",
              "      <th>14364</th>\n",
              "      <td>31e686d2_nohash_0.wav</td>\n",
              "      <td>[ 4.2306239e-04  9.7852491e-04  1.2255309e-03 ...</td>\n",
              "      <td>22050</td>\n",
              "      <td>[-484.747814, 117.814415, -18.3073491, 35.6734...</td>\n",
              "      <td>on</td>\n",
              "    </tr>\n",
              "  </tbody>\n",
              "</table>\n",
              "</div>"
            ],
            "text/plain": [
              "                       names  \\\n",
              "6338   324210dd_nohash_1.wav   \n",
              "3617   2bdbe5f7_nohash_4.wav   \n",
              "7453   5c8af87a_nohash_3.wav   \n",
              "15404  37dca74f_nohash_2.wav   \n",
              "14364  31e686d2_nohash_0.wav   \n",
              "\n",
              "                                                    data  sampling_rate  \\\n",
              "6338   [-0.02537217 -0.04132456 -0.03773856 ...  0.04...          22050   \n",
              "3617   [ 0.00039686  0.00079437  0.0004817  ... -0.00...          22050   \n",
              "7453   [ 3.0797957e-05  5.4504853e-05  6.4067368e-05 ...          22050   \n",
              "15404  [-5.5190336e-05 -2.2956036e-04 -4.0030215e-04 ...          22050   \n",
              "14364  [ 4.2306239e-04  9.7852491e-04  1.2255309e-03 ...          22050   \n",
              "\n",
              "                                                features label  \n",
              "6338   [-244.354486, 115.958463, -15.4770397, 48.6639...    up  \n",
              "3617   [-391.813558, 96.9535592, 15.9663749, 21.37131...    no  \n",
              "7453   [-588.335785, 111.744857, -12.3134355, 17.9093...  down  \n",
              "15404  [-559.501094, 62.5171016, -18.847625, 38.84352...    on  \n",
              "14364  [-484.747814, 117.814415, -18.3073491, 35.6734...    on  "
            ]
          },
          "metadata": {
            "tags": []
          },
          "execution_count": 28
        }
      ]
    },
    {
      "metadata": {
        "_uuid": "5697e8801999e4e505f90165a744eee21b4a29ee",
        "trusted": true,
        "id": "H_AiqIZ_O97D",
        "colab_type": "code",
        "colab": {}
      },
      "cell_type": "code",
      "source": [
        "#Splitting into our X and y array\n",
        "X_train = np.array(train.features.tolist())\n",
        "y_train = np.array(train.label.tolist())\n",
        "\n",
        "X_val = np.array(val.features.tolist())\n",
        "y_val = np.array(val.label.tolist())\n",
        "\n",
        "lb = LabelEncoder()\n",
        "\n",
        "y_train = np_utils.to_categorical(lb.fit_transform(y_train))\n",
        "y_val = np_utils.to_categorical(lb.fit_transform(y_val))"
      ],
      "execution_count": 0,
      "outputs": []
    },
    {
      "metadata": {
        "_uuid": "8c53525281ddcbc342c546210e541a65e0c05447",
        "trusted": true,
        "id": "Ahyaquy4O97J",
        "colab_type": "code",
        "outputId": "1abfed54-4868-40c5-bd86-b11e306c2479",
        "colab": {
          "base_uri": "https://localhost:8080/",
          "height": 34
        }
      },
      "cell_type": "code",
      "source": [
        "X_train.shape, y_train.shape, X_val.shape, y_val.shape"
      ],
      "execution_count": 30,
      "outputs": [
        {
          "output_type": "execute_result",
          "data": {
            "text/plain": [
              "((21105, 40), (21105, 10), (2577, 40), (2577, 10))"
            ]
          },
          "metadata": {
            "tags": []
          },
          "execution_count": 30
        }
      ]
    },
    {
      "metadata": {
        "_uuid": "1c907447061f0cee1ea3642c297c0f2de74bdbc3",
        "trusted": true,
        "id": "7PCK4B_wO97O",
        "colab_type": "code",
        "colab": {}
      },
      "cell_type": "code",
      "source": [
        "# # Here we are using deep learning using a sequential model with three hidden layers\n",
        "# ncols = X_train.shape[1]\n",
        "# model = Sequential()\n",
        "\n",
        "# model.add(Dense(1024, activation = 'relu', input_shape = (ncols,)))\n",
        "# model.add(Dropout(0.5))\n",
        "\n",
        "# model.add(Dense(512, activation = 'relu'))\n",
        "# model.add(Dropout(0.5))\n",
        "\n",
        "# model.add(Dense(256, activation = 'relu'))\n",
        "# model.add(Dropout(0.5))\n",
        "\n",
        "# model.add(Dense(128, activation = 'relu'))\n",
        "# model.add(Dropout(0.5))\n",
        "\n",
        "# model.add(Dense(y_train.shape[1], activation = 'softmax'))\n",
        "\n",
        "# model.compile(optimizer = 'adam', loss = 'categorical_crossentropy', metrics = ['accuracy'])"
      ],
      "execution_count": 0,
      "outputs": []
    },
    {
      "metadata": {
        "_uuid": "105aeee16091f95a96530350f173491d1bd45f2a",
        "scrolled": true,
        "trusted": true,
        "id": "5zwgNf0TO97S",
        "colab_type": "code",
        "colab": {}
      },
      "cell_type": "code",
      "source": [
        "# # Fitting the model\n",
        "# %%time\n",
        "# model.fit(X_train, y_train, batch_size = 32, epochs = 10, validation_data = [X_val, y_val])"
      ],
      "execution_count": 0,
      "outputs": []
    },
    {
      "metadata": {
        "_cell_guid": "79c7e3d0-c299-4dcb-8224-4455121ee9b0",
        "_uuid": "d629ff2d2480ee46fbb7e2d37f6b5fab8052498a",
        "scrolled": true,
        "trusted": true,
        "id": "scRrC_lfO97g",
        "colab_type": "code",
        "colab": {}
      },
      "cell_type": "code",
      "source": [
        "# # Applying CNN (deep learning)\n",
        "# model = Sequential()\n",
        "# model.add(Conv2D(32, kernel_size=(2, 2), activation='relu', input_shape=(8, 5, 1)))\n",
        "# model.add(MaxPooling2D(pool_size=(2, 2)))\n",
        "# model.add(Dropout(0.25))\n",
        "# model.add(Flatten())\n",
        "# model.add(Dense(128, activation='relu'))\n",
        "# model.add(Dropout(0.25))\n",
        "# model.add(Dense(y_train.shape[1], activation = 'softmax'))\n",
        "\n",
        "# model.compile(optimizer = 'adam', loss = 'categorical_crossentropy', metrics = ['accuracy'])\n",
        "# model.summary()\n",
        "\n",
        "# Applying CNN (deep learning)\n",
        "# %%time\n",
        "# model.fit(X_train.reshape(X_train.shape[0], 8, 5, 1), y_train, batch_size = 32, epochs = 50, validation_data = [X_val.reshape(X_val.shape[0], 8, 5, 1), y_val], verbose = 1)"
      ],
      "execution_count": 0,
      "outputs": []
    },
    {
      "metadata": {
        "trusted": true,
        "_uuid": "c836c6e5f1a473dd23e121e1b19d8f30eb52b6f0",
        "id": "P6J6O5WlO97k",
        "colab_type": "code",
        "outputId": "23076ad9-b6de-4828-8171-66a5af149706",
        "colab": {
          "base_uri": "https://localhost:8080/",
          "height": 490
        }
      },
      "cell_type": "code",
      "source": [
        "# Applying CNN (deep learning) with tpu\n",
        "model = tf.keras.models.Sequential()\n",
        "model.add(tf.keras.layers.Conv2D(32, kernel_size=(2, 2), activation='relu', input_shape=(8, 5, 1)))\n",
        "model.add(tf.keras.layers.MaxPooling2D(pool_size=(2, 2)))\n",
        "model.add(tf.keras.layers.Dropout(0.25))\n",
        "model.add(tf.keras.layers.Flatten())\n",
        "model.add(tf.keras.layers.Dense(128, activation='relu'))\n",
        "model.add(tf.keras.layers.Dropout(0.25))\n",
        "model.add(tf.keras.layers.Dense(y_train.shape[1], activation = 'softmax'))\n",
        "\n",
        "model.compile(optimizer = 'adam', loss = 'categorical_crossentropy', metrics = ['accuracy'])\n",
        "model.summary()"
      ],
      "execution_count": 34,
      "outputs": [
        {
          "output_type": "stream",
          "text": [
            "WARNING:tensorflow:From /usr/local/lib/python3.6/dist-packages/tensorflow/python/ops/resource_variable_ops.py:435: colocate_with (from tensorflow.python.framework.ops) is deprecated and will be removed in a future version.\n",
            "Instructions for updating:\n",
            "Colocations handled automatically by placer.\n",
            "WARNING:tensorflow:From /usr/local/lib/python3.6/dist-packages/tensorflow/python/keras/layers/core.py:143: calling dropout (from tensorflow.python.ops.nn_ops) with keep_prob is deprecated and will be removed in a future version.\n",
            "Instructions for updating:\n",
            "Please use `rate` instead of `keep_prob`. Rate should be set to `rate = 1 - keep_prob`.\n",
            "_________________________________________________________________\n",
            "Layer (type)                 Output Shape              Param #   \n",
            "=================================================================\n",
            "conv2d (Conv2D)              (None, 7, 4, 32)          160       \n",
            "_________________________________________________________________\n",
            "max_pooling2d (MaxPooling2D) (None, 3, 2, 32)          0         \n",
            "_________________________________________________________________\n",
            "dropout (Dropout)            (None, 3, 2, 32)          0         \n",
            "_________________________________________________________________\n",
            "flatten (Flatten)            (None, 192)               0         \n",
            "_________________________________________________________________\n",
            "dense (Dense)                (None, 128)               24704     \n",
            "_________________________________________________________________\n",
            "dropout_1 (Dropout)          (None, 128)               0         \n",
            "_________________________________________________________________\n",
            "dense_1 (Dense)              (None, 10)                1290      \n",
            "=================================================================\n",
            "Total params: 26,154\n",
            "Trainable params: 26,154\n",
            "Non-trainable params: 0\n",
            "_________________________________________________________________\n"
          ],
          "name": "stdout"
        }
      ]
    },
    {
      "metadata": {
        "id": "TrE89EOPdhCA",
        "colab_type": "code",
        "outputId": "a78fd634-a9d6-4b3b-e3de-873cf97d7deb",
        "colab": {
          "base_uri": "https://localhost:8080/",
          "height": 454
        }
      },
      "cell_type": "code",
      "source": [
        "TPU_WORKER = 'grpc://' + os.environ['COLAB_TPU_ADDR']\n",
        "tf.logging.set_verbosity(tf.logging.INFO)\n",
        "\n",
        "tpu_model = tf.contrib.tpu.keras_to_tpu_model(\n",
        "    model,\n",
        "    strategy=tf.contrib.tpu.TPUDistributionStrategy(\n",
        "        tf.contrib.cluster_resolver.TPUClusterResolver(TPU_WORKER)))"
      ],
      "execution_count": 35,
      "outputs": [
        {
          "output_type": "stream",
          "text": [
            "\n",
            "WARNING: The TensorFlow contrib module will not be included in TensorFlow 2.0.\n",
            "For more information, please see:\n",
            "  * https://github.com/tensorflow/community/blob/master/rfcs/20180907-contrib-sunset.md\n",
            "  * https://github.com/tensorflow/addons\n",
            "If you depend on functionality not listed there, please file an issue.\n",
            "\n",
            "INFO:tensorflow:Querying Tensorflow master (grpc://10.62.89.90:8470) for TPU system metadata.\n",
            "INFO:tensorflow:Found TPU system:\n",
            "INFO:tensorflow:*** Num TPU Cores: 8\n",
            "INFO:tensorflow:*** Num TPU Workers: 1\n",
            "INFO:tensorflow:*** Num TPU Cores Per Worker: 8\n",
            "INFO:tensorflow:*** Available Device: _DeviceAttributes(/job:worker/replica:0/task:0/device:CPU:0, CPU, -1, 6643390182452310907)\n",
            "INFO:tensorflow:*** Available Device: _DeviceAttributes(/job:worker/replica:0/task:0/device:XLA_CPU:0, XLA_CPU, 17179869184, 14348049939902864742)\n",
            "INFO:tensorflow:*** Available Device: _DeviceAttributes(/job:worker/replica:0/task:0/device:TPU:0, TPU, 17179869184, 7527197720383925262)\n",
            "INFO:tensorflow:*** Available Device: _DeviceAttributes(/job:worker/replica:0/task:0/device:TPU:1, TPU, 17179869184, 12406301066070214516)\n",
            "INFO:tensorflow:*** Available Device: _DeviceAttributes(/job:worker/replica:0/task:0/device:TPU:2, TPU, 17179869184, 8121014359418584534)\n",
            "INFO:tensorflow:*** Available Device: _DeviceAttributes(/job:worker/replica:0/task:0/device:TPU:3, TPU, 17179869184, 1083912102032589238)\n",
            "INFO:tensorflow:*** Available Device: _DeviceAttributes(/job:worker/replica:0/task:0/device:TPU:4, TPU, 17179869184, 14978624950405680677)\n",
            "INFO:tensorflow:*** Available Device: _DeviceAttributes(/job:worker/replica:0/task:0/device:TPU:5, TPU, 17179869184, 14160035361391959890)\n",
            "INFO:tensorflow:*** Available Device: _DeviceAttributes(/job:worker/replica:0/task:0/device:TPU:6, TPU, 17179869184, 9332630634679219202)\n",
            "INFO:tensorflow:*** Available Device: _DeviceAttributes(/job:worker/replica:0/task:0/device:TPU:7, TPU, 17179869184, 9005773475182276067)\n",
            "INFO:tensorflow:*** Available Device: _DeviceAttributes(/job:worker/replica:0/task:0/device:TPU_SYSTEM:0, TPU_SYSTEM, 17179869184, 9418906982064401062)\n",
            "WARNING:tensorflow:tpu_model (from tensorflow.contrib.tpu.python.tpu.keras_support) is experimental and may change or be removed at any time, and without warning.\n",
            "INFO:tensorflow:Cloning Adam {'lr': 0.0010000000474974513, 'beta_1': 0.8999999761581421, 'beta_2': 0.9990000128746033, 'decay': 0.0, 'epsilon': 1e-07, 'amsgrad': False}\n",
            "INFO:tensorflow:Cloning Adam {'lr': 0.0010000000474974513, 'beta_1': 0.8999999761581421, 'beta_2': 0.9990000128746033, 'decay': 0.0, 'epsilon': 1e-07, 'amsgrad': False}\n"
          ],
          "name": "stdout"
        }
      ]
    },
    {
      "metadata": {
        "id": "yzGX4sJnd8Nq",
        "colab_type": "code",
        "outputId": "db885c79-d492-4ac0-e9b2-5497922fc71b",
        "colab": {
          "base_uri": "https://localhost:8080/",
          "height": 403
        }
      },
      "cell_type": "code",
      "source": [
        "tpu_model.summary()"
      ],
      "execution_count": 36,
      "outputs": [
        {
          "output_type": "stream",
          "text": [
            "_________________________________________________________________\n",
            "Layer (type)                 Output Shape              Param #   \n",
            "=================================================================\n",
            "conv2d_input (InputLayer)    (None, 8, 5, 1)           0         \n",
            "_________________________________________________________________\n",
            "conv2d (Conv2D)              (None, 7, 4, 32)          160       \n",
            "_________________________________________________________________\n",
            "max_pooling2d (MaxPooling2D) (None, 3, 2, 32)          0         \n",
            "_________________________________________________________________\n",
            "dropout (Dropout)            (None, 3, 2, 32)          0         \n",
            "_________________________________________________________________\n",
            "flatten (Flatten)            (None, 192)               0         \n",
            "_________________________________________________________________\n",
            "dense (Dense)                (None, 128)               24704     \n",
            "_________________________________________________________________\n",
            "dropout_1 (Dropout)          (None, 128)               0         \n",
            "_________________________________________________________________\n",
            "dense_1 (Dense)              (None, 10)                1290      \n",
            "=================================================================\n",
            "Total params: 26,154\n",
            "Trainable params: 26,154\n",
            "Non-trainable params: 0\n",
            "_________________________________________________________________\n"
          ],
          "name": "stdout"
        }
      ]
    },
    {
      "metadata": {
        "_uuid": "faa94004997978041fee0edfabe8201e2578aa0b",
        "trusted": true,
        "id": "kOh6hNtSO97p",
        "colab_type": "code",
        "outputId": "5644e466-8bb7-40c3-f205-66e5067262fb",
        "colab": {
          "base_uri": "https://localhost:8080/",
          "height": 5799
        }
      },
      "cell_type": "code",
      "source": [
        "# Applying CNN (deep learning)\n",
        "%%time\n",
        "tpu_model.fit(X_train.reshape(X_train.shape[0], 8, 5, 1), y_train, batch_size = 32, epochs = 150, validation_data = [X_val.reshape(X_val.shape[0], 8, 5, 1), y_val], verbose = 1)"
      ],
      "execution_count": 37,
      "outputs": [
        {
          "output_type": "stream",
          "text": [
            "Train on 21105 samples, validate on 2577 samples\n",
            "Epoch 1/150\n",
            "INFO:tensorflow:New input shapes; (re-)compiling: mode=train (# of cores 8), [TensorSpec(shape=(4,), dtype=tf.int32, name='core_id0'), TensorSpec(shape=(4, 8, 5, 1), dtype=tf.float32, name='conv2d_input_10'), TensorSpec(shape=(4, 10), dtype=tf.float32, name='dense_1_target_30')]\n",
            "INFO:tensorflow:Overriding default placeholder.\n",
            "INFO:tensorflow:Cloning Adam {'lr': 0.0010000000474974513, 'beta_1': 0.8999999761581421, 'beta_2': 0.9990000128746033, 'decay': 0.0, 'epsilon': 1e-07, 'amsgrad': False}\n",
            "INFO:tensorflow:Remapping placeholder for conv2d_input\n",
            "WARNING:tensorflow:From /usr/local/lib/python3.6/dist-packages/tensorflow/contrib/tpu/python/tpu/keras_support.py:302: to_float (from tensorflow.python.ops.math_ops) is deprecated and will be removed in a future version.\n",
            "Instructions for updating:\n",
            "Use tf.cast instead.\n",
            "INFO:tensorflow:KerasCrossShard: <tensorflow.python.keras.optimizers.Adam object at 0x7f668ce3a4a8> []\n",
            "WARNING:tensorflow:From /usr/local/lib/python3.6/dist-packages/tensorflow/python/ops/math_ops.py:3066: to_int32 (from tensorflow.python.ops.math_ops) is deprecated and will be removed in a future version.\n",
            "Instructions for updating:\n",
            "Use tf.cast instead.\n",
            "INFO:tensorflow:Started compiling\n",
            "INFO:tensorflow:Finished compiling. Time elapsed: 1.4353268146514893 secs\n",
            "INFO:tensorflow:Setting weights on TPU model.\n",
            "INFO:tensorflow:CPU -> TPU lr: 0.0010000000474974513 {0.001}\n",
            "INFO:tensorflow:CPU -> TPU beta_1: 0.8999999761581421 {0.9}\n",
            "INFO:tensorflow:CPU -> TPU beta_2: 0.9990000128746033 {0.999}\n",
            "INFO:tensorflow:CPU -> TPU decay: 0.0 {0.0}\n",
            "WARNING:tensorflow:Cannot update non-variable config: epsilon\n",
            "WARNING:tensorflow:Cannot update non-variable config: amsgrad\n",
            "20992/21105 [============================>.] - ETA: 0s - loss: 4.3703 - acc: 0.1363INFO:tensorflow:New input shapes; (re-)compiling: mode=train (# of cores 8), [TensorSpec(shape=(2,), dtype=tf.int32, name='core_id0'), TensorSpec(shape=(2, 8, 5, 1), dtype=tf.float32, name='conv2d_input_10'), TensorSpec(shape=(2, 10), dtype=tf.float32, name='dense_1_target_30')]\n",
            "INFO:tensorflow:Overriding default placeholder.\n",
            "INFO:tensorflow:Remapping placeholder for conv2d_input\n",
            "INFO:tensorflow:KerasCrossShard: <tensorflow.python.keras.optimizers.Adam object at 0x7f668ce3a4a8> [<tf.Variable 'tpu_140078432384672/Adam/iterations:0' shape=() dtype=int64>, <tensorflow.contrib.tpu.python.tpu.keras_tpu_variables.ReplicatedVariable object at 0x7f668c63e9e8>, <tensorflow.contrib.tpu.python.tpu.keras_tpu_variables.ReplicatedVariable object at 0x7f668c5e9240>, <tensorflow.contrib.tpu.python.tpu.keras_tpu_variables.ReplicatedVariable object at 0x7f668c5e9630>, <tensorflow.contrib.tpu.python.tpu.keras_tpu_variables.ReplicatedVariable object at 0x7f668c5a9898>, <tensorflow.contrib.tpu.python.tpu.keras_tpu_variables.ReplicatedVariable object at 0x7f668c57a668>, <tensorflow.contrib.tpu.python.tpu.keras_tpu_variables.ReplicatedVariable object at 0x7f668c548e80>, <tensorflow.contrib.tpu.python.tpu.keras_tpu_variables.ReplicatedVariable object at 0x7f668c51ab00>, <tensorflow.contrib.tpu.python.tpu.keras_tpu_variables.ReplicatedVariable object at 0x7f668c46d940>, <tensorflow.contrib.tpu.python.tpu.keras_tpu_variables.ReplicatedVariable object at 0x7f668c43fdd8>, <tensorflow.contrib.tpu.python.tpu.keras_tpu_variables.ReplicatedVariable object at 0x7f668c3b8438>, <tensorflow.contrib.tpu.python.tpu.keras_tpu_variables.ReplicatedVariable object at 0x7f668c38a208>, <tensorflow.contrib.tpu.python.tpu.keras_tpu_variables.ReplicatedVariable object at 0x7f668c35dd68>, <tensorflow.contrib.tpu.python.tpu.keras_tpu_variables.ReplicatedVariable object at 0x7f668c2a9e10>, <tensorflow.contrib.tpu.python.tpu.keras_tpu_variables.ReplicatedVariable object at 0x7f668c27ce80>, <tensorflow.contrib.tpu.python.tpu.keras_tpu_variables.ReplicatedVariable object at 0x7f668c1f7470>, <tensorflow.contrib.tpu.python.tpu.keras_tpu_variables.ReplicatedVariable object at 0x7f668c1c7f28>, <tensorflow.contrib.tpu.python.tpu.keras_tpu_variables.ReplicatedVariable object at 0x7f668c1977f0>, <tensorflow.contrib.tpu.python.tpu.keras_tpu_variables.ReplicatedVariable object at 0x7f668c112f60>]\n",
            "INFO:tensorflow:Started compiling\n",
            "INFO:tensorflow:Finished compiling. Time elapsed: 1.7271661758422852 secs\n",
            "21088/21105 [============================>.] - ETA: 0s - loss: 4.3605 - acc: 0.1366INFO:tensorflow:New input shapes; (re-)compiling: mode=eval (# of cores 8), [TensorSpec(shape=(4,), dtype=tf.int32, name='core_id_10'), TensorSpec(shape=(4, 8, 5, 1), dtype=tf.float32, name='conv2d_input_10'), TensorSpec(shape=(4, 10), dtype=tf.float32, name='dense_1_target_30')]\n",
            "INFO:tensorflow:Overriding default placeholder.\n",
            "INFO:tensorflow:Cloning Adam {'lr': 0.0010000000474974513, 'beta_1': 0.8999999761581421, 'beta_2': 0.9990000128746033, 'decay': 0.0, 'epsilon': 1e-07, 'amsgrad': False}\n",
            "INFO:tensorflow:Remapping placeholder for conv2d_input\n",
            "INFO:tensorflow:KerasCrossShard: <tensorflow.python.keras.optimizers.Adam object at 0x7f668ac32b00> []\n",
            "INFO:tensorflow:Started compiling\n",
            "INFO:tensorflow:Finished compiling. Time elapsed: 1.2455594539642334 secs\n",
            "INFO:tensorflow:New input shapes; (re-)compiling: mode=eval (# of cores 8), [TensorSpec(shape=(2,), dtype=tf.int32, name='core_id_10'), TensorSpec(shape=(2, 8, 5, 1), dtype=tf.float32, name='conv2d_input_10'), TensorSpec(shape=(2, 10), dtype=tf.float32, name='dense_1_target_30')]\n",
            "INFO:tensorflow:Overriding default placeholder.\n",
            "INFO:tensorflow:Remapping placeholder for conv2d_input\n",
            "INFO:tensorflow:KerasCrossShard: <tensorflow.python.keras.optimizers.Adam object at 0x7f668ac32b00> []\n",
            "INFO:tensorflow:Started compiling\n",
            "INFO:tensorflow:Finished compiling. Time elapsed: 0.7853481769561768 secs\n",
            "21105/21105 [==============================] - 20s 944us/sample - loss: 4.3588 - acc: 0.1366 - val_loss: 2.1820 - val_acc: 0.1856\n",
            "Epoch 2/150\n",
            "21105/21105 [==============================] - 7s 331us/sample - loss: 2.1540 - acc: 0.1976 - val_loss: 1.9968 - val_acc: 0.3078\n",
            "Epoch 3/150\n",
            "21105/21105 [==============================] - 7s 344us/sample - loss: 2.0741 - acc: 0.2318 - val_loss: 1.9420 - val_acc: 0.3024\n",
            "Epoch 4/150\n",
            "21105/21105 [==============================] - 7s 341us/sample - loss: 2.0339 - acc: 0.2513 - val_loss: 1.9506 - val_acc: 0.2931\n",
            "Epoch 5/150\n",
            "21105/21105 [==============================] - 7s 347us/sample - loss: 2.0062 - acc: 0.2679 - val_loss: 1.8889 - val_acc: 0.3249\n",
            "Epoch 6/150\n",
            "21105/21105 [==============================] - 7s 343us/sample - loss: 1.9843 - acc: 0.2765 - val_loss: 1.8387 - val_acc: 0.3467\n",
            "Epoch 7/150\n",
            "21105/21105 [==============================] - 7s 336us/sample - loss: 1.9679 - acc: 0.2828 - val_loss: 1.8335 - val_acc: 0.3362\n",
            "Epoch 8/150\n",
            "21105/21105 [==============================] - 7s 332us/sample - loss: 1.9525 - acc: 0.2956 - val_loss: 1.8331 - val_acc: 0.3428\n",
            "Epoch 9/150\n",
            "21105/21105 [==============================] - 7s 331us/sample - loss: 1.9454 - acc: 0.2980 - val_loss: 1.8305 - val_acc: 0.3509\n",
            "Epoch 10/150\n",
            "21105/21105 [==============================] - 7s 348us/sample - loss: 1.9346 - acc: 0.3021 - val_loss: 1.8156 - val_acc: 0.3544\n",
            "Epoch 11/150\n",
            "21105/21105 [==============================] - 7s 354us/sample - loss: 1.9271 - acc: 0.3044 - val_loss: 1.7957 - val_acc: 0.3548\n",
            "Epoch 12/150\n",
            "21105/21105 [==============================] - 7s 333us/sample - loss: 1.9195 - acc: 0.3072 - val_loss: 1.8047 - val_acc: 0.3715\n",
            "Epoch 13/150\n",
            "21105/21105 [==============================] - 7s 330us/sample - loss: 1.9135 - acc: 0.3126 - val_loss: 1.8215 - val_acc: 0.3696\n",
            "Epoch 14/150\n",
            "21105/21105 [==============================] - 7s 351us/sample - loss: 1.8991 - acc: 0.3167 - val_loss: 1.7762 - val_acc: 0.3870\n",
            "Epoch 15/150\n",
            "21105/21105 [==============================] - 7s 349us/sample - loss: 1.8915 - acc: 0.3166 - val_loss: 1.7461 - val_acc: 0.3995\n",
            "Epoch 16/150\n",
            "21105/21105 [==============================] - 7s 341us/sample - loss: 1.8869 - acc: 0.3228 - val_loss: 1.7532 - val_acc: 0.3979\n",
            "Epoch 17/150\n",
            "21105/21105 [==============================] - 7s 343us/sample - loss: 1.8761 - acc: 0.3268 - val_loss: 1.7360 - val_acc: 0.3847\n",
            "Epoch 18/150\n",
            "21105/21105 [==============================] - 8s 369us/sample - loss: 1.8776 - acc: 0.3249 - val_loss: 1.7532 - val_acc: 0.3793\n",
            "Epoch 19/150\n",
            "21105/21105 [==============================] - 7s 355us/sample - loss: 1.8585 - acc: 0.3391 - val_loss: 1.7315 - val_acc: 0.4053\n",
            "Epoch 20/150\n",
            "21105/21105 [==============================] - 8s 357us/sample - loss: 1.8641 - acc: 0.3316 - val_loss: 1.7342 - val_acc: 0.3952\n",
            "Epoch 21/150\n",
            "21105/21105 [==============================] - 7s 343us/sample - loss: 1.8560 - acc: 0.3299 - val_loss: 1.7193 - val_acc: 0.3898\n",
            "Epoch 22/150\n",
            "21105/21105 [==============================] - 7s 329us/sample - loss: 1.8581 - acc: 0.3328 - val_loss: 1.7279 - val_acc: 0.4088\n",
            "Epoch 23/150\n",
            "21105/21105 [==============================] - 7s 336us/sample - loss: 1.8482 - acc: 0.3370 - val_loss: 1.7227 - val_acc: 0.3960\n",
            "Epoch 24/150\n",
            "21105/21105 [==============================] - 7s 335us/sample - loss: 1.8470 - acc: 0.3414 - val_loss: 1.7249 - val_acc: 0.4115\n",
            "Epoch 25/150\n",
            "21105/21105 [==============================] - 7s 340us/sample - loss: 1.8435 - acc: 0.3378 - val_loss: 1.7329 - val_acc: 0.4018\n",
            "Epoch 26/150\n",
            "21105/21105 [==============================] - 7s 338us/sample - loss: 1.8467 - acc: 0.3348 - val_loss: 1.7361 - val_acc: 0.4084\n",
            "Epoch 27/150\n",
            "21105/21105 [==============================] - 7s 342us/sample - loss: 1.8382 - acc: 0.3409 - val_loss: 1.7143 - val_acc: 0.3983\n",
            "Epoch 28/150\n",
            "21105/21105 [==============================] - 7s 323us/sample - loss: 1.8362 - acc: 0.3469 - val_loss: 1.7426 - val_acc: 0.4026\n",
            "Epoch 29/150\n",
            "21105/21105 [==============================] - 7s 329us/sample - loss: 1.8273 - acc: 0.3480 - val_loss: 1.7224 - val_acc: 0.3995\n",
            "Epoch 30/150\n",
            "21105/21105 [==============================] - 7s 351us/sample - loss: 1.8238 - acc: 0.3485 - val_loss: 1.7353 - val_acc: 0.4061\n",
            "Epoch 31/150\n",
            "21105/21105 [==============================] - 7s 354us/sample - loss: 1.8249 - acc: 0.3490 - val_loss: 1.7187 - val_acc: 0.4107\n",
            "Epoch 32/150\n",
            "21105/21105 [==============================] - 7s 354us/sample - loss: 1.8243 - acc: 0.3496 - val_loss: 1.7151 - val_acc: 0.4018\n",
            "Epoch 33/150\n",
            "21105/21105 [==============================] - 7s 336us/sample - loss: 1.8248 - acc: 0.3468 - val_loss: 1.7034 - val_acc: 0.4092\n",
            "Epoch 34/150\n",
            "21105/21105 [==============================] - 7s 332us/sample - loss: 1.8131 - acc: 0.3494 - val_loss: 1.6925 - val_acc: 0.4158\n",
            "Epoch 35/150\n",
            "21105/21105 [==============================] - 7s 355us/sample - loss: 1.8140 - acc: 0.3469 - val_loss: 1.7044 - val_acc: 0.4037\n",
            "Epoch 36/150\n",
            "21105/21105 [==============================] - 7s 352us/sample - loss: 1.8186 - acc: 0.3511 - val_loss: 1.7021 - val_acc: 0.3983\n",
            "Epoch 37/150\n",
            "21105/21105 [==============================] - 7s 344us/sample - loss: 1.8135 - acc: 0.3484 - val_loss: 1.7069 - val_acc: 0.4049\n",
            "Epoch 38/150\n",
            "21105/21105 [==============================] - 7s 350us/sample - loss: 1.8062 - acc: 0.3515 - val_loss: 1.7096 - val_acc: 0.4076\n",
            "Epoch 39/150\n",
            "21105/21105 [==============================] - 7s 339us/sample - loss: 1.8129 - acc: 0.3516 - val_loss: 1.7214 - val_acc: 0.4061\n",
            "Epoch 40/150\n",
            "21105/21105 [==============================] - 7s 330us/sample - loss: 1.8110 - acc: 0.3524 - val_loss: 1.7246 - val_acc: 0.4115\n",
            "Epoch 41/150\n",
            "21105/21105 [==============================] - 7s 345us/sample - loss: 1.8049 - acc: 0.3514 - val_loss: 1.7098 - val_acc: 0.4185\n",
            "Epoch 42/150\n",
            "21105/21105 [==============================] - 7s 344us/sample - loss: 1.8083 - acc: 0.3517 - val_loss: 1.7081 - val_acc: 0.4161\n",
            "Epoch 43/150\n",
            "21105/21105 [==============================] - 7s 354us/sample - loss: 1.8032 - acc: 0.3554 - val_loss: 1.7079 - val_acc: 0.4088\n",
            "Epoch 44/150\n",
            "21105/21105 [==============================] - 7s 338us/sample - loss: 1.8000 - acc: 0.3562 - val_loss: 1.6923 - val_acc: 0.4216\n",
            "Epoch 45/150\n",
            "21105/21105 [==============================] - 7s 341us/sample - loss: 1.8047 - acc: 0.3542 - val_loss: 1.6973 - val_acc: 0.4080\n",
            "Epoch 46/150\n",
            "21105/21105 [==============================] - 7s 335us/sample - loss: 1.8017 - acc: 0.3550 - val_loss: 1.7114 - val_acc: 0.4161\n",
            "Epoch 47/150\n",
            "21105/21105 [==============================] - 7s 333us/sample - loss: 1.7956 - acc: 0.3605 - val_loss: 1.6814 - val_acc: 0.4208\n",
            "Epoch 48/150\n",
            "21105/21105 [==============================] - 7s 332us/sample - loss: 1.7975 - acc: 0.3564 - val_loss: 1.7012 - val_acc: 0.4165\n",
            "Epoch 49/150\n",
            "21105/21105 [==============================] - 7s 337us/sample - loss: 1.7972 - acc: 0.3570 - val_loss: 1.6912 - val_acc: 0.4134\n",
            "Epoch 50/150\n",
            "21105/21105 [==============================] - 7s 348us/sample - loss: 1.7955 - acc: 0.3556 - val_loss: 1.7086 - val_acc: 0.4076\n",
            "Epoch 51/150\n",
            "21105/21105 [==============================] - 7s 334us/sample - loss: 1.7868 - acc: 0.3597 - val_loss: 1.6704 - val_acc: 0.4185\n",
            "Epoch 52/150\n",
            "21105/21105 [==============================] - 7s 339us/sample - loss: 1.7904 - acc: 0.3608 - val_loss: 1.7105 - val_acc: 0.4130\n",
            "Epoch 53/150\n",
            "21105/21105 [==============================] - 7s 335us/sample - loss: 1.7943 - acc: 0.3619 - val_loss: 1.6963 - val_acc: 0.4068\n",
            "Epoch 54/150\n",
            "21105/21105 [==============================] - 7s 340us/sample - loss: 1.7969 - acc: 0.3568 - val_loss: 1.7165 - val_acc: 0.4088\n",
            "Epoch 55/150\n",
            "21105/21105 [==============================] - 7s 340us/sample - loss: 1.7869 - acc: 0.3628 - val_loss: 1.6965 - val_acc: 0.4231\n",
            "Epoch 56/150\n",
            "21105/21105 [==============================] - 7s 343us/sample - loss: 1.7924 - acc: 0.3572 - val_loss: 1.6785 - val_acc: 0.4200\n",
            "Epoch 57/150\n",
            "21105/21105 [==============================] - 7s 352us/sample - loss: 1.7889 - acc: 0.3609 - val_loss: 1.6794 - val_acc: 0.4064\n",
            "Epoch 58/150\n",
            "21105/21105 [==============================] - 7s 351us/sample - loss: 1.7823 - acc: 0.3635 - val_loss: 1.7194 - val_acc: 0.4053\n",
            "Epoch 59/150\n",
            "21105/21105 [==============================] - 7s 339us/sample - loss: 1.7878 - acc: 0.3609 - val_loss: 1.7006 - val_acc: 0.4185\n",
            "Epoch 60/150\n",
            "21105/21105 [==============================] - 7s 340us/sample - loss: 1.7837 - acc: 0.3633 - val_loss: 1.6812 - val_acc: 0.4177\n",
            "Epoch 61/150\n",
            "21105/21105 [==============================] - 7s 351us/sample - loss: 1.7862 - acc: 0.3604 - val_loss: 1.7053 - val_acc: 0.4115\n",
            "Epoch 62/150\n",
            "21105/21105 [==============================] - 7s 322us/sample - loss: 1.7800 - acc: 0.3632 - val_loss: 1.7027 - val_acc: 0.4033\n",
            "Epoch 63/150\n",
            "21105/21105 [==============================] - 7s 318us/sample - loss: 1.7825 - acc: 0.3638 - val_loss: 1.6954 - val_acc: 0.4224\n",
            "Epoch 64/150\n",
            "21105/21105 [==============================] - 7s 323us/sample - loss: 1.7862 - acc: 0.3611 - val_loss: 1.6930 - val_acc: 0.4212\n",
            "Epoch 65/150\n",
            "21105/21105 [==============================] - 7s 322us/sample - loss: 1.7772 - acc: 0.3629 - val_loss: 1.6820 - val_acc: 0.4150\n",
            "Epoch 66/150\n",
            "21105/21105 [==============================] - 7s 319us/sample - loss: 1.7804 - acc: 0.3584 - val_loss: 1.6867 - val_acc: 0.4146\n",
            "Epoch 67/150\n",
            "21105/21105 [==============================] - 7s 325us/sample - loss: 1.7779 - acc: 0.3618 - val_loss: 1.6748 - val_acc: 0.4185\n",
            "Epoch 68/150\n",
            "21105/21105 [==============================] - 7s 336us/sample - loss: 1.7774 - acc: 0.3604 - val_loss: 1.6886 - val_acc: 0.4161\n",
            "Epoch 69/150\n",
            "21105/21105 [==============================] - 7s 341us/sample - loss: 1.7803 - acc: 0.3613 - val_loss: 1.6768 - val_acc: 0.4251\n",
            "Epoch 70/150\n",
            "21105/21105 [==============================] - 7s 325us/sample - loss: 1.7722 - acc: 0.3695 - val_loss: 1.6936 - val_acc: 0.4107\n",
            "Epoch 71/150\n",
            "21105/21105 [==============================] - 7s 325us/sample - loss: 1.7771 - acc: 0.3648 - val_loss: 1.7114 - val_acc: 0.4150\n",
            "Epoch 72/150\n",
            "21105/21105 [==============================] - 7s 328us/sample - loss: 1.7699 - acc: 0.3713 - val_loss: 1.7023 - val_acc: 0.4088\n",
            "Epoch 73/150\n",
            "21105/21105 [==============================] - 7s 349us/sample - loss: 1.7759 - acc: 0.3652 - val_loss: 1.6809 - val_acc: 0.4259\n",
            "Epoch 74/150\n",
            "21105/21105 [==============================] - 7s 331us/sample - loss: 1.7705 - acc: 0.3688 - val_loss: 1.6635 - val_acc: 0.4247\n",
            "Epoch 75/150\n",
            "21105/21105 [==============================] - 7s 337us/sample - loss: 1.7708 - acc: 0.3678 - val_loss: 1.6802 - val_acc: 0.4173\n",
            "Epoch 76/150\n",
            "21105/21105 [==============================] - 7s 346us/sample - loss: 1.7689 - acc: 0.3650 - val_loss: 1.6868 - val_acc: 0.4127\n",
            "Epoch 77/150\n",
            "21105/21105 [==============================] - 7s 351us/sample - loss: 1.7667 - acc: 0.3653 - val_loss: 1.6721 - val_acc: 0.4224\n",
            "Epoch 78/150\n",
            "21105/21105 [==============================] - 7s 327us/sample - loss: 1.7703 - acc: 0.3661 - val_loss: 1.6923 - val_acc: 0.4227\n",
            "Epoch 79/150\n",
            "21105/21105 [==============================] - 8s 364us/sample - loss: 1.7736 - acc: 0.3647 - val_loss: 1.7030 - val_acc: 0.4134\n",
            "Epoch 80/150\n",
            "21105/21105 [==============================] - 7s 330us/sample - loss: 1.7703 - acc: 0.3685 - val_loss: 1.6930 - val_acc: 0.4127\n",
            "Epoch 81/150\n",
            "21105/21105 [==============================] - 7s 332us/sample - loss: 1.7729 - acc: 0.3664 - val_loss: 1.6762 - val_acc: 0.4239\n",
            "Epoch 82/150\n",
            "21105/21105 [==============================] - 7s 329us/sample - loss: 1.7589 - acc: 0.3695 - val_loss: 1.6704 - val_acc: 0.4181\n",
            "Epoch 83/150\n",
            "21105/21105 [==============================] - 7s 322us/sample - loss: 1.7699 - acc: 0.3679 - val_loss: 1.6797 - val_acc: 0.4189\n",
            "Epoch 84/150\n",
            "21105/21105 [==============================] - 7s 335us/sample - loss: 1.7690 - acc: 0.3633 - val_loss: 1.6965 - val_acc: 0.4076\n",
            "Epoch 85/150\n",
            "21105/21105 [==============================] - 7s 325us/sample - loss: 1.7666 - acc: 0.3655 - val_loss: 1.6734 - val_acc: 0.4158\n",
            "Epoch 86/150\n",
            "21105/21105 [==============================] - 7s 333us/sample - loss: 1.7609 - acc: 0.3692 - val_loss: 1.6879 - val_acc: 0.4239\n",
            "Epoch 87/150\n",
            "21105/21105 [==============================] - 7s 331us/sample - loss: 1.7640 - acc: 0.3676 - val_loss: 1.6752 - val_acc: 0.4251\n",
            "Epoch 88/150\n",
            "21105/21105 [==============================] - 7s 334us/sample - loss: 1.7634 - acc: 0.3684 - val_loss: 1.6664 - val_acc: 0.4216\n",
            "Epoch 89/150\n",
            "21105/21105 [==============================] - 7s 344us/sample - loss: 1.7588 - acc: 0.3711 - val_loss: 1.6648 - val_acc: 0.4216\n",
            "Epoch 90/150\n",
            "21105/21105 [==============================] - 7s 323us/sample - loss: 1.7621 - acc: 0.3728 - val_loss: 1.6897 - val_acc: 0.4134\n",
            "Epoch 91/150\n",
            "21105/21105 [==============================] - 7s 329us/sample - loss: 1.7637 - acc: 0.3677 - val_loss: 1.6731 - val_acc: 0.4134\n",
            "Epoch 92/150\n",
            "21105/21105 [==============================] - 7s 333us/sample - loss: 1.7524 - acc: 0.3738 - val_loss: 1.6802 - val_acc: 0.4154\n",
            "Epoch 93/150\n",
            "21105/21105 [==============================] - 7s 342us/sample - loss: 1.7692 - acc: 0.3682 - val_loss: 1.6647 - val_acc: 0.4111\n",
            "Epoch 94/150\n",
            "21105/21105 [==============================] - 7s 339us/sample - loss: 1.7562 - acc: 0.3689 - val_loss: 1.6646 - val_acc: 0.4270\n",
            "Epoch 95/150\n",
            "21105/21105 [==============================] - 7s 337us/sample - loss: 1.7586 - acc: 0.3677 - val_loss: 1.6603 - val_acc: 0.4247\n",
            "Epoch 96/150\n",
            "21105/21105 [==============================] - 7s 346us/sample - loss: 1.7580 - acc: 0.3724 - val_loss: 1.6714 - val_acc: 0.4193\n",
            "Epoch 97/150\n",
            "21105/21105 [==============================] - 7s 354us/sample - loss: 1.7575 - acc: 0.3745 - val_loss: 1.6739 - val_acc: 0.4165\n",
            "Epoch 98/150\n",
            "21105/21105 [==============================] - 7s 334us/sample - loss: 1.7565 - acc: 0.3705 - val_loss: 1.6600 - val_acc: 0.4142\n",
            "Epoch 99/150\n",
            "21105/21105 [==============================] - 7s 334us/sample - loss: 1.7599 - acc: 0.3706 - val_loss: 1.6782 - val_acc: 0.4150\n",
            "Epoch 100/150\n",
            "21105/21105 [==============================] - 7s 331us/sample - loss: 1.7592 - acc: 0.3749 - val_loss: 1.6668 - val_acc: 0.4196\n",
            "Epoch 101/150\n",
            "21105/21105 [==============================] - 7s 323us/sample - loss: 1.7568 - acc: 0.3765 - val_loss: 1.6734 - val_acc: 0.4328\n",
            "Epoch 102/150\n",
            "21105/21105 [==============================] - 7s 337us/sample - loss: 1.7555 - acc: 0.3738 - val_loss: 1.6681 - val_acc: 0.4235\n",
            "Epoch 103/150\n",
            "21105/21105 [==============================] - 7s 345us/sample - loss: 1.7549 - acc: 0.3708 - val_loss: 1.6607 - val_acc: 0.4340\n",
            "Epoch 104/150\n",
            "21105/21105 [==============================] - 8s 358us/sample - loss: 1.7535 - acc: 0.3743 - val_loss: 1.6604 - val_acc: 0.4204\n",
            "Epoch 105/150\n",
            "21105/21105 [==============================] - 7s 354us/sample - loss: 1.7543 - acc: 0.3724 - val_loss: 1.6782 - val_acc: 0.4301\n",
            "Epoch 106/150\n",
            "21105/21105 [==============================] - 7s 333us/sample - loss: 1.7583 - acc: 0.3696 - val_loss: 1.6894 - val_acc: 0.4216\n",
            "Epoch 107/150\n",
            "21105/21105 [==============================] - 7s 335us/sample - loss: 1.7511 - acc: 0.3713 - val_loss: 1.6688 - val_acc: 0.4235\n",
            "Epoch 108/150\n",
            "21105/21105 [==============================] - 7s 333us/sample - loss: 1.7599 - acc: 0.3709 - val_loss: 1.6705 - val_acc: 0.4278\n",
            "Epoch 109/150\n",
            "21105/21105 [==============================] - 7s 334us/sample - loss: 1.7487 - acc: 0.3710 - val_loss: 1.6571 - val_acc: 0.4290\n",
            "Epoch 110/150\n",
            "21105/21105 [==============================] - 7s 338us/sample - loss: 1.7481 - acc: 0.3778 - val_loss: 1.6609 - val_acc: 0.4235\n",
            "Epoch 111/150\n",
            "21105/21105 [==============================] - 7s 333us/sample - loss: 1.7583 - acc: 0.3697 - val_loss: 1.6825 - val_acc: 0.4255\n",
            "Epoch 112/150\n",
            "21105/21105 [==============================] - 7s 342us/sample - loss: 1.7561 - acc: 0.3717 - val_loss: 1.6700 - val_acc: 0.4243\n",
            "Epoch 113/150\n",
            "21105/21105 [==============================] - 7s 323us/sample - loss: 1.7562 - acc: 0.3701 - val_loss: 1.6728 - val_acc: 0.4297\n",
            "Epoch 114/150\n",
            "21105/21105 [==============================] - 7s 332us/sample - loss: 1.7503 - acc: 0.3763 - val_loss: 1.7020 - val_acc: 0.4208\n",
            "Epoch 115/150\n",
            "21105/21105 [==============================] - 7s 333us/sample - loss: 1.7441 - acc: 0.3771 - val_loss: 1.6929 - val_acc: 0.4138\n",
            "Epoch 116/150\n",
            "21105/21105 [==============================] - 7s 345us/sample - loss: 1.7546 - acc: 0.3731 - val_loss: 1.6699 - val_acc: 0.4266\n",
            "Epoch 117/150\n",
            "21105/21105 [==============================] - 7s 338us/sample - loss: 1.7502 - acc: 0.3702 - val_loss: 1.6608 - val_acc: 0.4297\n",
            "Epoch 118/150\n",
            "21105/21105 [==============================] - 7s 332us/sample - loss: 1.7508 - acc: 0.3743 - val_loss: 1.6696 - val_acc: 0.4297\n",
            "Epoch 119/150\n",
            "21105/21105 [==============================] - 7s 336us/sample - loss: 1.7498 - acc: 0.3710 - val_loss: 1.6813 - val_acc: 0.4181\n",
            "Epoch 120/150\n",
            "21105/21105 [==============================] - 7s 341us/sample - loss: 1.7460 - acc: 0.3749 - val_loss: 1.6601 - val_acc: 0.4247\n",
            "Epoch 121/150\n",
            "21105/21105 [==============================] - 7s 337us/sample - loss: 1.7451 - acc: 0.3717 - val_loss: 1.6757 - val_acc: 0.4161\n",
            "Epoch 122/150\n",
            "21105/21105 [==============================] - 7s 350us/sample - loss: 1.7486 - acc: 0.3735 - val_loss: 1.6641 - val_acc: 0.4305\n",
            "Epoch 123/150\n",
            "21105/21105 [==============================] - 7s 338us/sample - loss: 1.7449 - acc: 0.3726 - val_loss: 1.6843 - val_acc: 0.4216\n",
            "Epoch 124/150\n",
            "21105/21105 [==============================] - 7s 321us/sample - loss: 1.7433 - acc: 0.3793 - val_loss: 1.6757 - val_acc: 0.4212\n",
            "Epoch 125/150\n",
            "21105/21105 [==============================] - 7s 328us/sample - loss: 1.7468 - acc: 0.3708 - val_loss: 1.6634 - val_acc: 0.4161\n",
            "Epoch 126/150\n",
            "21105/21105 [==============================] - 7s 333us/sample - loss: 1.7395 - acc: 0.3806 - val_loss: 1.6798 - val_acc: 0.4142\n",
            "Epoch 127/150\n",
            "21105/21105 [==============================] - 7s 336us/sample - loss: 1.7469 - acc: 0.3759 - val_loss: 1.6524 - val_acc: 0.4193\n",
            "Epoch 128/150\n",
            "21105/21105 [==============================] - 7s 333us/sample - loss: 1.7459 - acc: 0.3768 - val_loss: 1.6708 - val_acc: 0.4301\n",
            "Epoch 129/150\n",
            "21105/21105 [==============================] - 7s 344us/sample - loss: 1.7517 - acc: 0.3761 - val_loss: 1.6812 - val_acc: 0.4286\n",
            "Epoch 130/150\n",
            "21105/21105 [==============================] - 7s 342us/sample - loss: 1.7452 - acc: 0.3757 - val_loss: 1.7004 - val_acc: 0.4193\n",
            "Epoch 131/150\n",
            "21105/21105 [==============================] - 7s 326us/sample - loss: 1.7403 - acc: 0.3813 - val_loss: 1.6718 - val_acc: 0.4255\n",
            "Epoch 132/150\n",
            "21105/21105 [==============================] - 7s 330us/sample - loss: 1.7454 - acc: 0.3763 - val_loss: 1.6628 - val_acc: 0.4231\n",
            "Epoch 133/150\n",
            "21105/21105 [==============================] - 7s 331us/sample - loss: 1.7391 - acc: 0.3790 - val_loss: 1.6745 - val_acc: 0.4173\n",
            "Epoch 134/150\n",
            "21105/21105 [==============================] - 7s 330us/sample - loss: 1.7441 - acc: 0.3715 - val_loss: 1.6775 - val_acc: 0.4138\n",
            "Epoch 135/150\n",
            "21105/21105 [==============================] - 7s 313us/sample - loss: 1.7402 - acc: 0.3761 - val_loss: 1.6486 - val_acc: 0.4278\n",
            "Epoch 136/150\n",
            "21105/21105 [==============================] - 7s 326us/sample - loss: 1.7460 - acc: 0.3760 - val_loss: 1.6773 - val_acc: 0.4196\n",
            "Epoch 137/150\n",
            "21105/21105 [==============================] - 7s 336us/sample - loss: 1.7443 - acc: 0.3751 - val_loss: 1.6729 - val_acc: 0.4286\n",
            "Epoch 138/150\n",
            "21105/21105 [==============================] - 7s 333us/sample - loss: 1.7425 - acc: 0.3726 - val_loss: 1.6657 - val_acc: 0.4270\n",
            "Epoch 139/150\n",
            "21105/21105 [==============================] - 7s 334us/sample - loss: 1.7391 - acc: 0.3803 - val_loss: 1.6849 - val_acc: 0.4266\n",
            "Epoch 140/150\n",
            "21105/21105 [==============================] - 7s 339us/sample - loss: 1.7440 - acc: 0.3764 - val_loss: 1.6629 - val_acc: 0.4227\n",
            "Epoch 141/150\n",
            "21105/21105 [==============================] - 7s 329us/sample - loss: 1.7417 - acc: 0.3731 - val_loss: 1.6837 - val_acc: 0.4146\n",
            "Epoch 142/150\n",
            "21105/21105 [==============================] - 7s 329us/sample - loss: 1.7403 - acc: 0.3786 - val_loss: 1.6849 - val_acc: 0.4142\n",
            "Epoch 143/150\n",
            "21105/21105 [==============================] - 7s 324us/sample - loss: 1.7350 - acc: 0.3762 - val_loss: 1.6521 - val_acc: 0.4247\n",
            "Epoch 144/150\n",
            "21105/21105 [==============================] - 7s 338us/sample - loss: 1.7405 - acc: 0.3772 - val_loss: 1.6696 - val_acc: 0.4243\n",
            "Epoch 145/150\n",
            "21105/21105 [==============================] - 7s 327us/sample - loss: 1.7407 - acc: 0.3745 - val_loss: 1.6750 - val_acc: 0.4251\n",
            "Epoch 146/150\n",
            "21105/21105 [==============================] - 7s 317us/sample - loss: 1.7469 - acc: 0.3750 - val_loss: 1.6798 - val_acc: 0.4208\n",
            "Epoch 147/150\n",
            "21105/21105 [==============================] - 7s 323us/sample - loss: 1.7479 - acc: 0.3754 - val_loss: 1.6678 - val_acc: 0.4123\n",
            "Epoch 148/150\n",
            "21105/21105 [==============================] - 7s 336us/sample - loss: 1.7396 - acc: 0.3763 - val_loss: 1.6622 - val_acc: 0.4099\n",
            "Epoch 149/150\n",
            "21105/21105 [==============================] - 7s 351us/sample - loss: 1.7396 - acc: 0.3788 - val_loss: 1.6744 - val_acc: 0.4216\n",
            "Epoch 150/150\n",
            "21105/21105 [==============================] - 7s 327us/sample - loss: 1.7440 - acc: 0.3764 - val_loss: 1.6733 - val_acc: 0.4134\n",
            "CPU times: user 6min 47s, sys: 22.6 s, total: 7min 9s\n",
            "Wall time: 18min 1s\n"
          ],
          "name": "stdout"
        },
        {
          "output_type": "execute_result",
          "data": {
            "text/plain": [
              "<tensorflow.python.keras.callbacks.History at 0x7f668d01a828>"
            ]
          },
          "metadata": {
            "tags": []
          },
          "execution_count": 37
        }
      ]
    },
    {
      "metadata": {
        "trusted": true,
        "_uuid": "5810cdd64378592013e6ec177ea8d2082270da12",
        "id": "sZb1PCGPO97t",
        "colab_type": "code",
        "colab": {}
      },
      "cell_type": "code",
      "source": [
        "# # Applying CNN with 4 hidden layers, out of which 1 is a CNN layer and 3 are dense layers (deep learning)\n",
        "# model = Sequential()\n",
        "# model.add(Conv2D(64, kernel_size=(2, 2), activation='relu', input_shape=(8, 5, 1)))\n",
        "# model.add(MaxPooling2D(pool_size=(2, 2)))\n",
        "# model.add(Dropout(0.25))\n",
        "\n",
        "# model.add(Conv2D(32, (2, 2), padding=\"same\", activation=\"relu\", input_shape=(8, 5, 1)))\n",
        "# model.add(MaxPooling2D(pool_size=(2, 2)))\n",
        "# model.add(Dropout(0.25))\n",
        "# model.add(Flatten())\n",
        "\n",
        "# model.add(Dense(32, activation='relu'))\n",
        "# model.add(Dropout(0.25))\n",
        "          \n",
        "# model.add(Dense(32, activation='relu'))\n",
        "# model.add(Dropout(0.25))\n",
        "          \n",
        "# model.add(Dense(32, activation='relu'))\n",
        "# model.add(Dropout(0.25))\n",
        "\n",
        "# model.add(Dense(y_train.shape[1], activation = 'softmax'))\n",
        "\n",
        "# model.compile(optimizer = 'adam', loss = 'categorical_crossentropy', metrics = ['accuracy'])\n",
        "\n",
        "# model.summary()\n",
        "\n",
        "# # Fitting the model \n",
        "# %%time\n",
        "# model.fit(X_train.reshape(X_train.shape[0], 8, 5, 1), y_train, batch_size = 32, epochs = 50, validation_data = [X_val.reshape(X_val.shape[0], 8, 5, 1), y_val], verbose = 1)"
      ],
      "execution_count": 0,
      "outputs": []
    },
    {
      "metadata": {
        "id": "d4g5L4395UAC",
        "colab_type": "code",
        "colab": {
          "base_uri": "https://localhost:8080/",
          "height": 168
        },
        "outputId": "58c97752-9c4b-4a3b-fa4f-8f1f5ccdcb34"
      },
      "cell_type": "code",
      "source": [
        "model = tpu_model.sync_to_cpu()"
      ],
      "execution_count": 46,
      "outputs": [
        {
          "output_type": "stream",
          "text": [
            "INFO:tensorflow:Copying TPU weights to the CPU\n",
            "INFO:tensorflow:TPU -> CPU lr: 0.0010000000474974513\n",
            "INFO:tensorflow:TPU -> CPU beta_1: 0.8999999761581421\n",
            "INFO:tensorflow:TPU -> CPU beta_2: 0.9990000128746033\n",
            "INFO:tensorflow:TPU -> CPU decay: 0.0\n",
            "INFO:tensorflow:TPU -> CPU epsilon: 1e-07\n",
            "WARNING:tensorflow:Cannot update non-variable config: epsilon\n",
            "INFO:tensorflow:TPU -> CPU amsgrad: False\n",
            "WARNING:tensorflow:Cannot update non-variable config: amsgrad\n"
          ],
          "name": "stdout"
        }
      ]
    },
    {
      "metadata": {
        "trusted": true,
        "_uuid": "643565974c4058d9a6ef3863873b880e76d45212",
        "id": "E17z6QLFO97_",
        "colab_type": "code",
        "colab": {}
      },
      "cell_type": "code",
      "source": [
        "model.save_weights('tfsr.h5')"
      ],
      "execution_count": 0,
      "outputs": []
    },
    {
      "metadata": {
        "id": "Xs1-HT34MrOf",
        "colab_type": "code",
        "colab": {}
      },
      "cell_type": "code",
      "source": [
        "model.load_weights('tfsr.h5')"
      ],
      "execution_count": 0,
      "outputs": []
    },
    {
      "metadata": {
        "id": "otS5ggZ1MxqE",
        "colab_type": "code",
        "outputId": "90d1eabc-d214-477a-f8f2-8c4ff4272054",
        "colab": {
          "base_uri": "https://localhost:8080/",
          "height": 195
        }
      },
      "cell_type": "code",
      "source": [
        "test_df = pd.read_csv('test_df.csv', converters = {'features' : converter, 'data' : converter})\n",
        "test_df.head()"
      ],
      "execution_count": 49,
      "outputs": [
        {
          "output_type": "execute_result",
          "data": {
            "text/html": [
              "<div>\n",
              "<style scoped>\n",
              "    .dataframe tbody tr th:only-of-type {\n",
              "        vertical-align: middle;\n",
              "    }\n",
              "\n",
              "    .dataframe tbody tr th {\n",
              "        vertical-align: top;\n",
              "    }\n",
              "\n",
              "    .dataframe thead th {\n",
              "        text-align: right;\n",
              "    }\n",
              "</style>\n",
              "<table border=\"1\" class=\"dataframe\">\n",
              "  <thead>\n",
              "    <tr style=\"text-align: right;\">\n",
              "      <th></th>\n",
              "      <th>names</th>\n",
              "      <th>data</th>\n",
              "      <th>sampling_rate</th>\n",
              "      <th>features</th>\n",
              "    </tr>\n",
              "  </thead>\n",
              "  <tbody>\n",
              "    <tr>\n",
              "      <th>0</th>\n",
              "      <td>clip_000044442.wav</td>\n",
              "      <td>[0.00213205, 0.00348907, 0.00481788]</td>\n",
              "      <td>22050</td>\n",
              "      <td>[-343.180481, 108.435396, -8.90255396, 47.3082...</td>\n",
              "    </tr>\n",
              "    <tr>\n",
              "      <th>1</th>\n",
              "      <td>clip_0000adecb.wav</td>\n",
              "      <td>[-0.00020656, 0.00100615, 0.0023665]</td>\n",
              "      <td>22050</td>\n",
              "      <td>[-537.140085, 85.9404343, -17.808872, 34.89341...</td>\n",
              "    </tr>\n",
              "    <tr>\n",
              "      <th>2</th>\n",
              "      <td>clip_0000d4322.wav</td>\n",
              "      <td>[-5.3789678e-05, -3.9656203e-05, 5.913086e-05]</td>\n",
              "      <td>22050</td>\n",
              "      <td>[-416.513579, 141.730557, 3.42186958, 22.13704...</td>\n",
              "    </tr>\n",
              "    <tr>\n",
              "      <th>3</th>\n",
              "      <td>clip_0000fb6fe.wav</td>\n",
              "      <td>[0.00039818, 0.00134888, 0.00260451]</td>\n",
              "      <td>22050</td>\n",
              "      <td>[-445.238752, 139.523346, -66.4656067, 68.1054...</td>\n",
              "    </tr>\n",
              "    <tr>\n",
              "      <th>4</th>\n",
              "      <td>clip_0001d1559.wav</td>\n",
              "      <td>[-0.00214653, -0.00286958, -0.00289717]</td>\n",
              "      <td>22050</td>\n",
              "      <td>[-372.486641, 69.4742626, -18.3678007, 38.2457...</td>\n",
              "    </tr>\n",
              "  </tbody>\n",
              "</table>\n",
              "</div>"
            ],
            "text/plain": [
              "                names                                            data  \\\n",
              "0  clip_000044442.wav            [0.00213205, 0.00348907, 0.00481788]   \n",
              "1  clip_0000adecb.wav            [-0.00020656, 0.00100615, 0.0023665]   \n",
              "2  clip_0000d4322.wav  [-5.3789678e-05, -3.9656203e-05, 5.913086e-05]   \n",
              "3  clip_0000fb6fe.wav            [0.00039818, 0.00134888, 0.00260451]   \n",
              "4  clip_0001d1559.wav         [-0.00214653, -0.00286958, -0.00289717]   \n",
              "\n",
              "   sampling_rate                                           features  \n",
              "0          22050  [-343.180481, 108.435396, -8.90255396, 47.3082...  \n",
              "1          22050  [-537.140085, 85.9404343, -17.808872, 34.89341...  \n",
              "2          22050  [-416.513579, 141.730557, 3.42186958, 22.13704...  \n",
              "3          22050  [-445.238752, 139.523346, -66.4656067, 68.1054...  \n",
              "4          22050  [-372.486641, 69.4742626, -18.3678007, 38.2457...  "
            ]
          },
          "metadata": {
            "tags": []
          },
          "execution_count": 49
        }
      ]
    },
    {
      "metadata": {
        "id": "jrZAKRn0M8v-",
        "colab_type": "code",
        "colab": {}
      },
      "cell_type": "code",
      "source": [
        "X_test = np.array(test_df.features.tolist())"
      ],
      "execution_count": 0,
      "outputs": []
    },
    {
      "metadata": {
        "id": "G010kLLHNbXC",
        "colab_type": "code",
        "outputId": "5ebb0303-33b9-45c7-a6de-f64ad7ba5569",
        "colab": {
          "base_uri": "https://localhost:8080/",
          "height": 34
        }
      },
      "cell_type": "code",
      "source": [
        "X_test.shape"
      ],
      "execution_count": 51,
      "outputs": [
        {
          "output_type": "execute_result",
          "data": {
            "text/plain": [
              "(158538, 40)"
            ]
          },
          "metadata": {
            "tags": []
          },
          "execution_count": 51
        }
      ]
    },
    {
      "metadata": {
        "id": "BGFsi2xYNgDY",
        "colab_type": "code",
        "colab": {}
      },
      "cell_type": "code",
      "source": [
        "pred = model.predict(X_test.reshape(X_test.shape[0], 8, 5, 1))"
      ],
      "execution_count": 0,
      "outputs": []
    },
    {
      "metadata": {
        "id": "NO3cQAQ7N_X5",
        "colab_type": "code",
        "colab": {}
      },
      "cell_type": "code",
      "source": [
        "y_pred = pd.Series(list(pred)).map(lambda x: np.argmax(x)).map(lambda x: lb.inverse_transform([x]))"
      ],
      "execution_count": 0,
      "outputs": []
    },
    {
      "metadata": {
        "id": "G-H6NrojOr-x",
        "colab_type": "code",
        "outputId": "ee9cc7e3-3c84-440d-994c-1fe03941e533",
        "colab": {
          "base_uri": "https://localhost:8080/",
          "height": 195
        }
      },
      "cell_type": "code",
      "source": [
        "my_results = pd.DataFrame([test_df.names, y_pred.str.get(0)]).T\n",
        "my_results.columns = ['fname', 'label']\n",
        "my_results.head()"
      ],
      "execution_count": 54,
      "outputs": [
        {
          "output_type": "execute_result",
          "data": {
            "text/html": [
              "<div>\n",
              "<style scoped>\n",
              "    .dataframe tbody tr th:only-of-type {\n",
              "        vertical-align: middle;\n",
              "    }\n",
              "\n",
              "    .dataframe tbody tr th {\n",
              "        vertical-align: top;\n",
              "    }\n",
              "\n",
              "    .dataframe thead th {\n",
              "        text-align: right;\n",
              "    }\n",
              "</style>\n",
              "<table border=\"1\" class=\"dataframe\">\n",
              "  <thead>\n",
              "    <tr style=\"text-align: right;\">\n",
              "      <th></th>\n",
              "      <th>fname</th>\n",
              "      <th>label</th>\n",
              "    </tr>\n",
              "  </thead>\n",
              "  <tbody>\n",
              "    <tr>\n",
              "      <th>0</th>\n",
              "      <td>clip_000044442.wav</td>\n",
              "      <td>go</td>\n",
              "    </tr>\n",
              "    <tr>\n",
              "      <th>1</th>\n",
              "      <td>clip_0000adecb.wav</td>\n",
              "      <td>down</td>\n",
              "    </tr>\n",
              "    <tr>\n",
              "      <th>2</th>\n",
              "      <td>clip_0000d4322.wav</td>\n",
              "      <td>go</td>\n",
              "    </tr>\n",
              "    <tr>\n",
              "      <th>3</th>\n",
              "      <td>clip_0000fb6fe.wav</td>\n",
              "      <td>no</td>\n",
              "    </tr>\n",
              "    <tr>\n",
              "      <th>4</th>\n",
              "      <td>clip_0001d1559.wav</td>\n",
              "      <td>yes</td>\n",
              "    </tr>\n",
              "  </tbody>\n",
              "</table>\n",
              "</div>"
            ],
            "text/plain": [
              "                fname label\n",
              "0  clip_000044442.wav    go\n",
              "1  clip_0000adecb.wav  down\n",
              "2  clip_0000d4322.wav    go\n",
              "3  clip_0000fb6fe.wav    no\n",
              "4  clip_0001d1559.wav   yes"
            ]
          },
          "metadata": {
            "tags": []
          },
          "execution_count": 54
        }
      ]
    },
    {
      "metadata": {
        "id": "3wNd-RWqT5Vn",
        "colab_type": "code",
        "colab": {}
      },
      "cell_type": "code",
      "source": [
        "my_results.to_csv('sample_submission.csv')"
      ],
      "execution_count": 0,
      "outputs": []
    },
    {
      "metadata": {
        "id": "5sSXOkwsUFkn",
        "colab_type": "code",
        "colab": {}
      },
      "cell_type": "code",
      "source": [
        ""
      ],
      "execution_count": 0,
      "outputs": []
    }
  ]
}